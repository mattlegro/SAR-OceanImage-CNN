{
 "cells": [
  {
   "cell_type": "code",
   "execution_count": 10,
   "metadata": {},
   "outputs": [],
   "source": [
    "import datetime\n",
    "import numpy as np\n",
    "from keras.preprocessing.image import ImageDataGenerator\n",
    "from keras import layers\n",
    "from keras import models\n",
    "from keras import optimizers\n",
    "import matplotlib.pyplot as plt\n",
    "%matplotlib inline "
   ]
  },
  {
   "cell_type": "code",
   "execution_count": 4,
   "metadata": {},
   "outputs": [],
   "source": [
    "image_root_dir = 'E:\\LargeDatasets\\SAR-Ocean-Images\\GeoTIFF\\OrganisationForModel'\n",
    "train_dir = f'{image_root_dir}\\\\train'\n",
    "val_dir = f'{image_root_dir}\\\\val'\n",
    "test_dir = f'{image_root_dir}\\\\test'"
   ]
  },
  {
   "cell_type": "code",
   "execution_count": 41,
   "metadata": {},
   "outputs": [
    {
     "name": "stdout",
     "output_type": "stream",
     "text": [
      "Found 3756 images belonging to 10 classes.\n",
      "Found 3756 images belonging to 10 classes.\n",
      "Found 30041 images belonging to 10 classes.\n"
     ]
    }
   ],
   "source": [
    "test_generator = ImageDataGenerator(rescale=1./255).flow_from_directory(\n",
    "        test_dir, \n",
    "        target_size=(540, 490), batch_size = 1000) \n",
    "\n",
    "val_generator = ImageDataGenerator(rescale=1./255).flow_from_directory(\n",
    "        val_dir, \n",
    "        target_size=(540, 490), batch_size = 1000)\n",
    "\n",
    "train_generator = ImageDataGenerator(rescale=1./255).flow_from_directory(\n",
    "        train_dir, \n",
    "        target_size=(540, 490), batch_size=5000)"
   ]
  },
  {
   "cell_type": "code",
   "execution_count": 42,
   "metadata": {},
   "outputs": [],
   "source": [
    "train_images, train_labels = next(train_generator)\n",
    "test_images, test_labels = next(test_generator)\n",
    "val_images, val_labels = next(val_generator)"
   ]
  },
  {
   "cell_type": "code",
   "execution_count": 43,
   "metadata": {},
   "outputs": [
    {
     "name": "stdout",
     "output_type": "stream",
     "text": [
      "Number of training samples: 5000\n",
      "Number of testing samples: 1000\n",
      "Number of validation samples: 1000\n",
      "train_images shape: (5000, 540, 490, 3)\n",
      "train_labels shape: (5000, 10)\n",
      "test_images shape: (1000, 540, 490, 3)\n",
      "test_labels shape: (1000, 10)\n",
      "val_images shape: (1000, 540, 490, 3)\n",
      "val_labels shape: (1000, 10)\n"
     ]
    }
   ],
   "source": [
    "m_train = train_images.shape[0]\n",
    "num_px = train_images.shape[1]\n",
    "m_test = test_images.shape[0]\n",
    "m_val = val_images.shape[0]\n",
    "\n",
    "print (\"Number of training samples: \" + str(m_train))\n",
    "print (\"Number of testing samples: \" + str(m_test))\n",
    "print (\"Number of validation samples: \" + str(m_val))\n",
    "print (\"train_images shape: \" + str(train_images.shape))\n",
    "print (\"train_labels shape: \" + str(train_labels.shape))\n",
    "print (\"test_images shape: \" + str(test_images.shape))\n",
    "print (\"test_labels shape: \" + str(test_labels.shape))\n",
    "print (\"val_images shape: \" + str(val_images.shape))\n",
    "print (\"val_labels shape: \" + str(val_labels.shape))"
   ]
  },
  {
   "cell_type": "code",
   "execution_count": 44,
   "metadata": {},
   "outputs": [
    {
     "name": "stdout",
     "output_type": "stream",
     "text": [
      "(5000, 793800)\n",
      "(1000, 793800)\n",
      "(1000, 793800)\n"
     ]
    }
   ],
   "source": [
    "train_img = train_images.reshape(train_images.shape[0], -1)\n",
    "test_img = test_images.reshape(test_images.shape[0], -1)\n",
    "val_img = val_images.reshape(val_images.shape[0], -1)\n",
    "\n",
    "print(train_img.shape)\n",
    "print(test_img.shape)\n",
    "print(val_img.shape)"
   ]
  },
  {
   "cell_type": "code",
   "execution_count": 46,
   "metadata": {},
   "outputs": [],
   "source": [
    "train_y = np.reshape(train_labels[:,0], (5000,1))\n",
    "test_y = np.reshape(test_labels[:,0], (1000,1))\n",
    "val_y = np.reshape(val_labels[:,0], (1000,1))"
   ]
  },
  {
   "cell_type": "code",
   "execution_count": 16,
   "metadata": {},
   "outputs": [],
   "source": [
    "model = models.Sequential()\n",
    "model.add(layers.Dense(40, activation='relu', input_shape=(793800,))) # 2 hidden layers\n",
    "model.add(layers.Dense(30, activation='relu'))\n",
    "model.add(layers.Dense(24, activation='relu'))\n",
    "model.add(layers.Dense(18, activation='relu'))\n",
    "model.add(layers.Dense(10, activation='softmax'))\n",
    "\n",
    "model.compile(optimizer='sgd',\n",
    "              loss='binary_crossentropy',\n",
    "              metrics=['accuracy'])"
   ]
  },
  {
   "cell_type": "code",
   "execution_count": 47,
   "metadata": {},
   "outputs": [
    {
     "name": "stdout",
     "output_type": "stream",
     "text": [
      "Epoch 1/10\n",
      "50/50 [==============================] - 15s 307ms/step - loss: 0.4024 - accuracy: 0.1352 - val_loss: 0.3866 - val_accuracy: 0.1280\n",
      "Epoch 2/10\n",
      "50/50 [==============================] - 12s 239ms/step - loss: 0.4024 - accuracy: 0.1352 - val_loss: 0.3866 - val_accuracy: 0.1280\n",
      "Epoch 3/10\n",
      "50/50 [==============================] - 20s 390ms/step - loss: 0.4024 - accuracy: 0.1352 - val_loss: 0.3866 - val_accuracy: 0.1280\n",
      "Epoch 4/10\n",
      "50/50 [==============================] - 9s 182ms/step - loss: 0.4024 - accuracy: 0.1352 - val_loss: 0.3866 - val_accuracy: 0.1280\n",
      "Epoch 5/10\n",
      "50/50 [==============================] - 11s 223ms/step - loss: 0.4024 - accuracy: 0.1352 - val_loss: 0.3866 - val_accuracy: 0.1280\n",
      "Epoch 6/10\n",
      "50/50 [==============================] - 9s 188ms/step - loss: 0.4024 - accuracy: 0.1352 - val_loss: 0.3866 - val_accuracy: 0.1280\n",
      "Epoch 7/10\n",
      "50/50 [==============================] - 9s 184ms/step - loss: 0.4024 - accuracy: 0.1352 - val_loss: 0.3866 - val_accuracy: 0.1280\n",
      "Epoch 8/10\n",
      "50/50 [==============================] - 7s 143ms/step - loss: 0.4024 - accuracy: 0.1352 - val_loss: 0.3866 - val_accuracy: 0.1280\n",
      "Epoch 9/10\n",
      "50/50 [==============================] - 9s 183ms/step - loss: 0.4024 - accuracy: 0.1352 - val_loss: 0.3866 - val_accuracy: 0.1280\n",
      "Epoch 10/10\n",
      "50/50 [==============================] - 6s 119ms/step - loss: 0.4024 - accuracy: 0.1352 - val_loss: 0.3866 - val_accuracy: 0.1280\n"
     ]
    }
   ],
   "source": [
    "histoire = model.fit(train_img,\n",
    "                    train_y,\n",
    "                    epochs=10,\n",
    "                    batch_size=100,\n",
    "                    validation_data=(val_img, val_y))"
   ]
  },
  {
   "cell_type": "code",
   "execution_count": 48,
   "metadata": {},
   "outputs": [
    {
     "name": "stdout",
     "output_type": "stream",
     "text": [
      "157/157 [==============================] - 3s 22ms/step - loss: 0.4024 - accuracy: 0.1352\n"
     ]
    }
   ],
   "source": [
    "results_train = model.evaluate(train_img, train_y)"
   ]
  },
  {
   "cell_type": "code",
   "execution_count": 20,
   "metadata": {},
   "outputs": [
    {
     "data": {
      "text/plain": [
       "75.0"
      ]
     },
     "execution_count": 20,
     "metadata": {},
     "output_type": "execute_result"
    }
   ],
   "source": [
    "3750/50"
   ]
  },
  {
   "cell_type": "code",
   "execution_count": null,
   "metadata": {},
   "outputs": [],
   "source": []
  }
 ],
 "metadata": {
  "kernelspec": {
   "display_name": "learn-env",
   "language": "python",
   "name": "learn-env"
  },
  "language_info": {
   "codemirror_mode": {
    "name": "ipython",
    "version": 3
   },
   "file_extension": ".py",
   "mimetype": "text/x-python",
   "name": "python",
   "nbconvert_exporter": "python",
   "pygments_lexer": "ipython3",
   "version": "3.8.5"
  }
 },
 "nbformat": 4,
 "nbformat_minor": 4
}
