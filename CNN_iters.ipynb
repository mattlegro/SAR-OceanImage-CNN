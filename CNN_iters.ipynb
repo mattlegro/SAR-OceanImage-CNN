{
 "cells": [
  {
   "cell_type": "code",
   "execution_count": 1,
   "id": "e08112ba-528e-46d4-a14c-5e46329579e7",
   "metadata": {},
   "outputs": [],
   "source": [
    "import datetime\n",
    "import os\n",
    "import gc\n",
    "import numpy as np\n",
    "import tensorflow as tf\n",
    "from keras.preprocessing.image import ImageDataGenerator\n",
    "from keras import layers\n",
    "from keras import models\n",
    "from keras import optimizers\n",
    "from keras import backend as K\n",
    "import matplotlib.pyplot as plt\n",
    "%matplotlib inline "
   ]
  },
  {
   "cell_type": "code",
   "execution_count": 2,
   "id": "f8db8225-c422-4d1a-b50c-9d4a02a3bf4e",
   "metadata": {},
   "outputs": [],
   "source": [
    "image_root_dir = 'E:\\LargeDatasets\\SAR-Ocean-Images\\GeoTIFF\\OrganisationForModel'\n",
    "train_dir = f'{image_root_dir}\\\\train'\n",
    "val_dir = f'{image_root_dir}\\\\val'\n",
    "test_dir = f'{image_root_dir}\\\\test'"
   ]
  },
  {
   "cell_type": "code",
   "execution_count": 3,
   "id": "5ec53353-ad25-40c3-9c42-2060c882f65c",
   "metadata": {
    "tags": []
   },
   "outputs": [
    {
     "name": "stderr",
     "output_type": "stream",
     "text": [
      "C:\\Users\\mattl\\anaconda3\\envs\\learn-env\\lib\\site-packages\\keras_preprocessing\\image\\utils.py:179: UserWarning: Using \".tiff\" files with multiple bands will cause distortion. Please verify your output.\n",
      "  warnings.warn('Using \".tiff\" files with multiple bands '\n"
     ]
    },
    {
     "name": "stdout",
     "output_type": "stream",
     "text": [
      "Found 3756 images belonging to 10 classes.\n",
      "Found 3756 images belonging to 10 classes.\n",
      "Found 30041 images belonging to 10 classes.\n"
     ]
    }
   ],
   "source": [
    "batch_size = 10\n",
    "\n",
    "test_generator = ImageDataGenerator().flow_from_directory(\n",
    "        test_dir, class_mode = 'categorical',\n",
    "        target_size=(540, 490), batch_size = batch_size) \n",
    "\n",
    "val_generator = ImageDataGenerator().flow_from_directory(\n",
    "        val_dir, class_mode = 'categorical',\n",
    "        target_size=(540, 490), batch_size = batch_size)\n",
    "\n",
    "train_generator = ImageDataGenerator().flow_from_directory(\n",
    "        train_dir, class_mode = 'categorical',\n",
    "        target_size=(540, 490), batch_size= batch_size)"
   ]
  },
  {
   "cell_type": "code",
   "execution_count": 4,
   "id": "cc64fc47-8cdd-43c6-aba6-e25aadeaf9e8",
   "metadata": {},
   "outputs": [],
   "source": [
    "model = models.Sequential()\n",
    "model.add(layers.Conv2D(64, (3, 3), activation='relu',\n",
    "                        input_shape=(540, 490, 3)))\n",
    "model.add(layers.Conv2D(64, (3, 3), activation='relu'))\n",
    "model.add(layers.MaxPooling2D((2, 2),padding = 'same'))\n",
    "model.add(layers.Conv2D(128, (3, 3), activation='relu'))\n",
    "model.add(layers.Conv2D(128, (3, 3), activation='relu'))\n",
    "model.add(layers.MaxPooling2D((2, 2),padding = 'same'))\n",
    "model.add(layers.Conv2D(256, (3, 3), activation='relu'))\n",
    "model.add(layers.Conv2D(256, (3, 3), activation='relu'))\n",
    "model.add(layers.Conv2D(256, (3, 3), activation='relu'))\n",
    "model.add(layers.Conv2D(256, (3, 3), activation='relu'))\n",
    "model.add(layers.MaxPooling2D((2, 2),padding = 'same'))\n",
    "model.add(layers.Conv2D(512, (3, 3), activation='relu'))\n",
    "model.add(layers.Conv2D(512, (3, 3), activation='relu'))\n",
    "model.add(layers.Conv2D(512, (3, 3), activation='relu'))\n",
    "model.add(layers.Conv2D(512, (3, 3), activation='relu'))\n",
    "model.add(layers.MaxPooling2D((2, 2),padding = 'same'))\n",
    "model.add(layers.Conv2D(512, (3, 3), activation='relu'))\n",
    "model.add(layers.Conv2D(512, (3, 3), activation='relu'))\n",
    "model.add(layers.Conv2D(512, (3, 3), activation='relu'))\n",
    "model.add(layers.Conv2D(512, (3, 3), activation='relu'))\n",
    "model.add(layers.MaxPooling2D((2, 2),padding = 'same'))\n",
    "model.add(layers.Flatten())\n",
    "model.add(layers.Dense(1000, activation='relu'))\n",
    "model.add(layers.Dense(200, activation='relu'))\n",
    "model.add(layers.Dense(10, activation='softmax'))"
   ]
  },
  {
   "cell_type": "code",
   "execution_count": 5,
   "id": "b9b70944-dc1c-4d30-8d88-e0df56272c6f",
   "metadata": {},
   "outputs": [],
   "source": [
    "model.compile(loss='categorical_crossentropy',\n",
    "              optimizer=optimizers.RMSprop(lr=.001),\n",
    "              metrics=['acc'])"
   ]
  },
  {
   "cell_type": "code",
   "execution_count": 6,
   "id": "23366316-77e8-414b-b11d-f012d6311bda",
   "metadata": {},
   "outputs": [
    {
     "name": "stdout",
     "output_type": "stream",
     "text": [
      "Model: \"sequential\"\n",
      "_________________________________________________________________\n",
      "Layer (type)                 Output Shape              Param #   \n",
      "=================================================================\n",
      "conv2d (Conv2D)              (None, 538, 488, 64)      1792      \n",
      "_________________________________________________________________\n",
      "conv2d_1 (Conv2D)            (None, 536, 486, 64)      36928     \n",
      "_________________________________________________________________\n",
      "max_pooling2d (MaxPooling2D) (None, 268, 243, 64)      0         \n",
      "_________________________________________________________________\n",
      "conv2d_2 (Conv2D)            (None, 266, 241, 128)     73856     \n",
      "_________________________________________________________________\n",
      "conv2d_3 (Conv2D)            (None, 264, 239, 128)     147584    \n",
      "_________________________________________________________________\n",
      "max_pooling2d_1 (MaxPooling2 (None, 132, 120, 128)     0         \n",
      "_________________________________________________________________\n",
      "conv2d_4 (Conv2D)            (None, 130, 118, 256)     295168    \n",
      "_________________________________________________________________\n",
      "conv2d_5 (Conv2D)            (None, 128, 116, 256)     590080    \n",
      "_________________________________________________________________\n",
      "conv2d_6 (Conv2D)            (None, 126, 114, 256)     590080    \n",
      "_________________________________________________________________\n",
      "conv2d_7 (Conv2D)            (None, 124, 112, 256)     590080    \n",
      "_________________________________________________________________\n",
      "max_pooling2d_2 (MaxPooling2 (None, 62, 56, 256)       0         \n",
      "_________________________________________________________________\n",
      "conv2d_8 (Conv2D)            (None, 60, 54, 512)       1180160   \n",
      "_________________________________________________________________\n",
      "conv2d_9 (Conv2D)            (None, 58, 52, 512)       2359808   \n",
      "_________________________________________________________________\n",
      "conv2d_10 (Conv2D)           (None, 56, 50, 512)       2359808   \n",
      "_________________________________________________________________\n",
      "conv2d_11 (Conv2D)           (None, 54, 48, 512)       2359808   \n",
      "_________________________________________________________________\n",
      "max_pooling2d_3 (MaxPooling2 (None, 27, 24, 512)       0         \n",
      "_________________________________________________________________\n",
      "conv2d_12 (Conv2D)           (None, 25, 22, 512)       2359808   \n",
      "_________________________________________________________________\n",
      "conv2d_13 (Conv2D)           (None, 23, 20, 512)       2359808   \n",
      "_________________________________________________________________\n",
      "conv2d_14 (Conv2D)           (None, 21, 18, 512)       2359808   \n",
      "_________________________________________________________________\n",
      "conv2d_15 (Conv2D)           (None, 19, 16, 512)       2359808   \n",
      "_________________________________________________________________\n",
      "max_pooling2d_4 (MaxPooling2 (None, 10, 8, 512)        0         \n",
      "_________________________________________________________________\n",
      "flatten (Flatten)            (None, 40960)             0         \n",
      "_________________________________________________________________\n",
      "dense (Dense)                (None, 1000)              40961000  \n",
      "_________________________________________________________________\n",
      "dense_1 (Dense)              (None, 200)               200200    \n",
      "_________________________________________________________________\n",
      "dense_2 (Dense)              (None, 10)                2010      \n",
      "=================================================================\n",
      "Total params: 61,187,594\n",
      "Trainable params: 61,187,594\n",
      "Non-trainable params: 0\n",
      "_________________________________________________________________\n"
     ]
    }
   ],
   "source": [
    "model.summary()"
   ]
  },
  {
   "cell_type": "code",
   "execution_count": 7,
   "id": "349012a9-d1ee-40d3-9cf5-2f0dc8fad7a6",
   "metadata": {},
   "outputs": [
    {
     "name": "stdout",
     "output_type": "stream",
     "text": [
      "  2/800 [..............................] - ETA: 3:07 - loss: 1886212480.0000 - acc: 0.1000WARNING:tensorflow:Callbacks method `on_train_batch_end` is slow compared to the batch time (batch time: 0.1428s vs `on_train_batch_end` time: 0.3269s). Check your callbacks.\n",
      "800/800 [==============================] - 435s 544ms/step - loss: 4715546.0000 - acc: 0.1235 - val_loss: 21.0342 - val_acc: 0.1224\n"
     ]
    }
   ],
   "source": [
    "history = model.fit(train_generator,\n",
    "                        steps_per_epoch= 800,\n",
    "                        epochs=1,\n",
    "                        validation_data=val_generator,\n",
    "                        validation_steps=3756//batch_size)"
   ]
  },
  {
   "cell_type": "code",
   "execution_count": null,
   "id": "86df6248-5dcf-4e59-aea4-532e14a92f41",
   "metadata": {},
   "outputs": [],
   "source": []
  }
 ],
 "metadata": {
  "kernelspec": {
   "display_name": "learn-env",
   "language": "python",
   "name": "learn-env"
  },
  "language_info": {
   "codemirror_mode": {
    "name": "ipython",
    "version": 3
   },
   "file_extension": ".py",
   "mimetype": "text/x-python",
   "name": "python",
   "nbconvert_exporter": "python",
   "pygments_lexer": "ipython3",
   "version": "3.8.5"
  }
 },
 "nbformat": 4,
 "nbformat_minor": 5
}
