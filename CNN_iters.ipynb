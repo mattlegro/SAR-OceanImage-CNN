{
 "cells": [
  {
   "cell_type": "markdown",
   "metadata": {},
   "source": [
    "# This Notebook"
   ]
  },
  {
   "cell_type": "markdown",
   "metadata": {},
   "source": [
    "In this notebook, we'll train a basic dense fully connected MLP as a baseline for our image classification."
   ]
  },
  {
   "cell_type": "markdown",
   "metadata": {},
   "source": [
    "# Importing Images"
   ]
  },
  {
   "cell_type": "markdown",
   "metadata": {
    "tags": []
   },
   "source": [
    "Let's set up some generators, since we won't be able to load all the images into memory, accessing the file structure built in the preprocessing notebook."
   ]
  },
  {
   "cell_type": "code",
   "execution_count": 62,
   "metadata": {},
   "outputs": [],
   "source": [
    "import datetime\n",
    "import os\n",
    "import gc\n",
    "import numpy as np\n",
    "import pandas as pd\n",
    "import tensorflow as tf\n",
    "from PIL import Image\n",
    "from keras.preprocessing.image import ImageDataGenerator, load_img, img_to_array\n",
    "from keras import layers\n",
    "from keras import models\n",
    "from keras import optimizers\n",
    "from keras import backend as K\n",
    "from keras.callbacks import ModelCheckpoint, ReduceLROnPlateau, EarlyStopping\n",
    "from sklearn.metrics import confusion_matrix, classification_report\n",
    "from sklearn import preprocessing\n",
    "import matplotlib.pyplot as plt\n",
    "import seaborn as sns\n",
    "import warnings\n",
    "%matplotlib inline\n",
    "warnings.filterwarnings('ignore')"
   ]
  },
  {
   "cell_type": "code",
   "execution_count": 3,
   "metadata": {},
   "outputs": [],
   "source": [
    "image_root_dir = 'E:\\LargeDatasets\\SAR-Ocean-Images\\GeoTIFF\\OrganisationForModel'\n",
    "train_dir = f'{image_root_dir}\\\\train'\n",
    "val_dir = f'{image_root_dir}\\\\val'\n",
    "test_dir = f'{image_root_dir}\\\\test'"
   ]
  },
  {
   "cell_type": "markdown",
   "metadata": {},
   "source": [
    "Setting up generators..."
   ]
  },
  {
   "cell_type": "code",
   "execution_count": 4,
   "metadata": {
    "tags": []
   },
   "outputs": [
    {
     "name": "stdout",
     "output_type": "stream",
     "text": [
      "Found 30041 images belonging to 10 classes.\n",
      "Found 3756 images belonging to 10 classes.\n",
      "Found 3756 images belonging to 10 classes.\n"
     ]
    }
   ],
   "source": [
    "batch_size = 8\n",
    "\n",
    "train_generator = ImageDataGenerator().flow_from_directory(\n",
    "        train_dir, class_mode = 'categorical', color_mode = 'grayscale',\n",
    "        target_size=(540, 490), batch_size= batch_size)\n",
    "\n",
    "val_generator = ImageDataGenerator().flow_from_directory(\n",
    "        val_dir, class_mode = 'categorical', color_mode = 'grayscale',\n",
    "        target_size=(540, 490), batch_size = batch_size)\n",
    "\n",
    "test_generator = ImageDataGenerator().flow_from_directory(\n",
    "        test_dir, class_mode = 'categorical', color_mode = 'grayscale',\n",
    "        target_size=(540, 490), batch_size = batch_size, shuffle = False) "
   ]
  },
  {
   "cell_type": "markdown",
   "metadata": {},
   "source": [
    "## Verifying trainability of images"
   ]
  },
  {
   "cell_type": "markdown",
   "metadata": {},
   "source": [
    "I was initially not able to get results, so I decided to investigate the image arrays to see what they looked like. Here I load one image.."
   ]
  },
  {
   "cell_type": "code",
   "execution_count": 5,
   "metadata": {},
   "outputs": [],
   "source": [
    "image_path = 'E:\\LargeDatasets\\SAR-Ocean-Images\\GeoTIFF\\OrganisationForModel\\\\train\\H\\s1a-wv1-slc-vv-20160107t131721-20160107t131724-009388-00d975-029.tiff'\n",
    "test_image = load_img(image_path, target_size = (540,490))"
   ]
  },
  {
   "cell_type": "code",
   "execution_count": 6,
   "metadata": {},
   "outputs": [
    {
     "data": {
      "text/plain": [
       "array([[[255., 255., 255.],\n",
       "        [255., 255., 255.],\n",
       "        [255., 255., 255.],\n",
       "        ...,\n",
       "        [255., 255., 255.],\n",
       "        [255., 255., 255.],\n",
       "        [255., 255., 255.]],\n",
       "\n",
       "       [[255., 255., 255.],\n",
       "        [255., 255., 255.],\n",
       "        [255., 255., 255.],\n",
       "        ...,\n",
       "        [255., 255., 255.],\n",
       "        [255., 255., 255.],\n",
       "        [255., 255., 255.]],\n",
       "\n",
       "       [[255., 255., 255.],\n",
       "        [255., 255., 255.],\n",
       "        [255., 255., 255.],\n",
       "        ...,\n",
       "        [255., 255., 255.],\n",
       "        [255., 255., 255.],\n",
       "        [255., 255., 255.]],\n",
       "\n",
       "       ...,\n",
       "\n",
       "       [[255., 255., 255.],\n",
       "        [255., 255., 255.],\n",
       "        [255., 255., 255.],\n",
       "        ...,\n",
       "        [255., 255., 255.],\n",
       "        [255., 255., 255.],\n",
       "        [255., 255., 255.]],\n",
       "\n",
       "       [[255., 255., 255.],\n",
       "        [255., 255., 255.],\n",
       "        [255., 255., 255.],\n",
       "        ...,\n",
       "        [255., 255., 255.],\n",
       "        [255., 255., 255.],\n",
       "        [255., 255., 255.]],\n",
       "\n",
       "       [[255., 255., 255.],\n",
       "        [255., 255., 255.],\n",
       "        [255., 255., 255.],\n",
       "        ...,\n",
       "        [255., 255., 255.],\n",
       "        [255., 255., 255.],\n",
       "        [255., 255., 255.]]], dtype=float32)"
      ]
     },
     "execution_count": 6,
     "metadata": {},
     "output_type": "execute_result"
    }
   ],
   "source": [
    "img_to_array(test_image)"
   ]
  },
  {
   "cell_type": "markdown",
   "metadata": {},
   "source": [
    "I immediately was able to notice that the pixel values were all a flat 255 for some reason, making it obvious the reason I was getting no results. Doing some google and stackexchange magic, I was able to determine that ImageDataGenerator.flow_from_directory() did not properly process 3 channel .tiff files and would compress Uint16 bits (range 0 to 65535) to Uint8 (range 0 to 255) resulting in nearly all the values being set to 255. A solution in the thread that was appropriate, as these were grayscale images anyway, was to set color_mode = 'grayscale' as above, resulting in single channel images with the proper pixel bit values as ddemonstrated below. "
   ]
  },
  {
   "cell_type": "code",
   "execution_count": 4,
   "metadata": {},
   "outputs": [
    {
     "data": {
      "text/plain": [
       "(array([[[[ 7986.],\n",
       "          [ 6488.],\n",
       "          [ 4910.],\n",
       "          ...,\n",
       "          [ 5223.],\n",
       "          [ 3850.],\n",
       "          [ 7615.]],\n",
       " \n",
       "         [[23903.],\n",
       "          [19366.],\n",
       "          [15383.],\n",
       "          ...,\n",
       "          [20469.],\n",
       "          [16265.],\n",
       "          [23816.]],\n",
       " \n",
       "         [[27636.],\n",
       "          [17294.],\n",
       "          [16594.],\n",
       "          ...,\n",
       "          [18377.],\n",
       "          [18977.],\n",
       "          [34210.]],\n",
       " \n",
       "         ...,\n",
       " \n",
       "         [[32728.],\n",
       "          [25338.],\n",
       "          [26956.],\n",
       "          ...,\n",
       "          [24950.],\n",
       "          [17589.],\n",
       "          [25931.]],\n",
       " \n",
       "         [[36948.],\n",
       "          [22001.],\n",
       "          [25313.],\n",
       "          ...,\n",
       "          [20552.],\n",
       "          [20539.],\n",
       "          [17045.]],\n",
       " \n",
       "         [[30254.],\n",
       "          [22642.],\n",
       "          [22594.],\n",
       "          ...,\n",
       "          [15208.],\n",
       "          [16643.],\n",
       "          [14092.]]],\n",
       " \n",
       " \n",
       "        [[[ 4628.],\n",
       "          [ 5532.],\n",
       "          [ 5574.],\n",
       "          ...,\n",
       "          [ 4597.],\n",
       "          [ 4540.],\n",
       "          [ 4177.]],\n",
       " \n",
       "         [[ 9665.],\n",
       "          [11022.],\n",
       "          [ 9570.],\n",
       "          ...,\n",
       "          [ 9333.],\n",
       "          [ 8106.],\n",
       "          [ 9399.]],\n",
       " \n",
       "         [[ 8368.],\n",
       "          [10809.],\n",
       "          [12006.],\n",
       "          ...,\n",
       "          [ 9641.],\n",
       "          [10484.],\n",
       "          [ 9124.]],\n",
       " \n",
       "         ...,\n",
       " \n",
       "         [[10252.],\n",
       "          [10007.],\n",
       "          [10367.],\n",
       "          ...,\n",
       "          [12983.],\n",
       "          [13706.],\n",
       "          [11960.]],\n",
       " \n",
       "         [[ 9394.],\n",
       "          [ 9156.],\n",
       "          [ 9801.],\n",
       "          ...,\n",
       "          [ 8378.],\n",
       "          [13647.],\n",
       "          [11413.]],\n",
       " \n",
       "         [[ 2707.],\n",
       "          [ 3028.],\n",
       "          [ 2607.],\n",
       "          ...,\n",
       "          [ 2759.],\n",
       "          [ 3384.],\n",
       "          [ 3451.]]],\n",
       " \n",
       " \n",
       "        [[[ 4429.],\n",
       "          [ 5877.],\n",
       "          [ 4941.],\n",
       "          ...,\n",
       "          [ 6060.],\n",
       "          [ 4367.],\n",
       "          [ 4738.]],\n",
       " \n",
       "         [[11580.],\n",
       "          [13601.],\n",
       "          [13543.],\n",
       "          ...,\n",
       "          [17324.],\n",
       "          [12782.],\n",
       "          [11387.]],\n",
       " \n",
       "         [[13559.],\n",
       "          [13516.],\n",
       "          [15450.],\n",
       "          ...,\n",
       "          [15863.],\n",
       "          [13307.],\n",
       "          [15126.]],\n",
       " \n",
       "         ...,\n",
       " \n",
       "         [[14190.],\n",
       "          [17146.],\n",
       "          [16311.],\n",
       "          ...,\n",
       "          [13466.],\n",
       "          [13604.],\n",
       "          [15438.]],\n",
       " \n",
       "         [[13423.],\n",
       "          [11721.],\n",
       "          [12745.],\n",
       "          ...,\n",
       "          [10884.],\n",
       "          [ 9929.],\n",
       "          [12631.]],\n",
       " \n",
       "         [[ 4313.],\n",
       "          [ 4076.],\n",
       "          [ 3585.],\n",
       "          ...,\n",
       "          [ 3161.],\n",
       "          [ 3272.],\n",
       "          [ 3451.]]],\n",
       " \n",
       " \n",
       "        ...,\n",
       " \n",
       " \n",
       "        [[[  511.],\n",
       "          [  516.],\n",
       "          [  535.],\n",
       "          ...,\n",
       "          [  397.],\n",
       "          [  489.],\n",
       "          [  373.]],\n",
       " \n",
       "         [[ 1774.],\n",
       "          [ 1511.],\n",
       "          [ 1667.],\n",
       "          ...,\n",
       "          [ 1336.],\n",
       "          [ 1465.],\n",
       "          [ 1186.]],\n",
       " \n",
       "         [[ 1744.],\n",
       "          [ 1772.],\n",
       "          [ 1919.],\n",
       "          ...,\n",
       "          [ 1741.],\n",
       "          [ 1547.],\n",
       "          [ 1577.]],\n",
       " \n",
       "         ...,\n",
       " \n",
       "         [[ 1834.],\n",
       "          [ 2310.],\n",
       "          [ 2145.],\n",
       "          ...,\n",
       "          [ 1872.],\n",
       "          [ 1726.],\n",
       "          [ 1740.]],\n",
       " \n",
       "         [[ 1872.],\n",
       "          [ 1922.],\n",
       "          [ 1946.],\n",
       "          ...,\n",
       "          [ 1816.],\n",
       "          [ 1849.],\n",
       "          [ 2065.]],\n",
       " \n",
       "         [[  772.],\n",
       "          [  811.],\n",
       "          [  894.],\n",
       "          ...,\n",
       "          [  851.],\n",
       "          [  828.],\n",
       "          [  848.]]],\n",
       " \n",
       " \n",
       "        [[[10390.],\n",
       "          [ 8977.],\n",
       "          [ 8742.],\n",
       "          ...,\n",
       "          [ 5505.],\n",
       "          [ 5374.],\n",
       "          [ 6078.]],\n",
       " \n",
       "         [[28668.],\n",
       "          [25749.],\n",
       "          [23135.],\n",
       "          ...,\n",
       "          [20421.],\n",
       "          [20966.],\n",
       "          [20611.]],\n",
       " \n",
       "         [[27528.],\n",
       "          [27651.],\n",
       "          [26002.],\n",
       "          ...,\n",
       "          [22291.],\n",
       "          [22622.],\n",
       "          [21825.]],\n",
       " \n",
       "         ...,\n",
       " \n",
       "         [[34701.],\n",
       "          [30212.],\n",
       "          [28827.],\n",
       "          ...,\n",
       "          [26079.],\n",
       "          [28231.],\n",
       "          [32051.]],\n",
       " \n",
       "         [[34191.],\n",
       "          [32040.],\n",
       "          [30507.],\n",
       "          ...,\n",
       "          [29121.],\n",
       "          [27240.],\n",
       "          [33839.]],\n",
       " \n",
       "         [[18050.],\n",
       "          [16679.],\n",
       "          [14624.],\n",
       "          ...,\n",
       "          [14743.],\n",
       "          [16462.],\n",
       "          [18439.]]],\n",
       " \n",
       " \n",
       "        [[[14033.],\n",
       "          [10831.],\n",
       "          [15761.],\n",
       "          ...,\n",
       "          [16662.],\n",
       "          [16378.],\n",
       "          [ 9480.]],\n",
       " \n",
       "         [[25317.],\n",
       "          [21713.],\n",
       "          [20819.],\n",
       "          ...,\n",
       "          [35182.],\n",
       "          [32355.],\n",
       "          [19511.]],\n",
       " \n",
       "         [[24089.],\n",
       "          [18885.],\n",
       "          [22858.],\n",
       "          ...,\n",
       "          [35309.],\n",
       "          [30146.],\n",
       "          [25059.]],\n",
       " \n",
       "         ...,\n",
       " \n",
       "         [[24332.],\n",
       "          [14434.],\n",
       "          [23163.],\n",
       "          ...,\n",
       "          [22505.],\n",
       "          [15219.],\n",
       "          [21352.]],\n",
       " \n",
       "         [[17287.],\n",
       "          [14396.],\n",
       "          [20200.],\n",
       "          ...,\n",
       "          [21063.],\n",
       "          [15086.],\n",
       "          [25721.]],\n",
       " \n",
       "         [[ 7202.],\n",
       "          [ 4239.],\n",
       "          [ 6170.],\n",
       "          ...,\n",
       "          [ 7337.],\n",
       "          [ 6533.],\n",
       "          [ 8889.]]]], dtype=float32),\n",
       " array([[1., 0., 0., 0., 0., 0., 0., 0., 0., 0.],\n",
       "        [0., 0., 1., 0., 0., 0., 0., 0., 0., 0.],\n",
       "        [0., 0., 0., 1., 0., 0., 0., 0., 0., 0.],\n",
       "        [0., 0., 1., 0., 0., 0., 0., 0., 0., 0.],\n",
       "        [0., 0., 0., 0., 0., 1., 0., 0., 0., 0.],\n",
       "        [0., 0., 0., 0., 0., 0., 0., 1., 0., 0.],\n",
       "        [0., 0., 0., 0., 0., 1., 0., 0., 0., 0.],\n",
       "        [1., 0., 0., 0., 0., 0., 0., 0., 0., 0.]], dtype=float32))"
      ]
     },
     "execution_count": 4,
     "metadata": {},
     "output_type": "execute_result"
    }
   ],
   "source": [
    "train_generator[0]"
   ]
  },
  {
   "cell_type": "markdown",
   "metadata": {},
   "source": [
    "# Building Model 1"
   ]
  },
  {
   "cell_type": "markdown",
   "metadata": {},
   "source": [
    "After experimenting some, I fell on the below architecture, a slightly modified VGG19 such that it is able to fit in my dedicated GPU memory."
   ]
  },
  {
   "cell_type": "code",
   "execution_count": 6,
   "metadata": {},
   "outputs": [],
   "source": [
    "# model = models.Sequential()\n",
    "# model.add(layers.Conv2D(64, (3, 3), activation='relu',\n",
    "#                         input_shape=(540, 490, 1)))\n",
    "# model.add(layers.Conv2D(64, (3, 3), activation='relu'))\n",
    "# model.add(layers.MaxPooling2D((2, 2),padding = 'same'))\n",
    "# model.add(layers.Conv2D(128, (3, 3), activation='relu'))\n",
    "# model.add(layers.Conv2D(128, (3, 3), activation='relu'))\n",
    "# model.add(layers.MaxPooling2D((2, 2),padding = 'same'))\n",
    "# model.add(layers.Conv2D(256, (3, 3), activation='relu'))\n",
    "# model.add(layers.Conv2D(256, (3, 3), activation='relu'))\n",
    "# model.add(layers.Conv2D(256, (3, 3), activation='relu'))\n",
    "# model.add(layers.Conv2D(256, (3, 3), activation='relu'))\n",
    "# model.add(layers.MaxPooling2D((2, 2),padding = 'same'))\n",
    "# model.add(layers.Conv2D(512, (3, 3), activation='relu'))\n",
    "# model.add(layers.Conv2D(512, (3, 3), activation='relu'))\n",
    "# model.add(layers.Conv2D(512, (3, 3), activation='relu'))\n",
    "# model.add(layers.Conv2D(512, (3, 3), activation='relu'))\n",
    "# model.add(layers.MaxPooling2D((2, 2),padding = 'same'))\n",
    "# model.add(layers.Conv2D(512, (3, 3), activation='relu'))\n",
    "# model.add(layers.Conv2D(512, (3, 3), activation='relu'))\n",
    "# model.add(layers.Conv2D(512, (3, 3), activation='relu'))\n",
    "# model.add(layers.Conv2D(512, (3, 3), activation='relu'))\n",
    "# model.add(layers.MaxPooling2D((2, 2),padding = 'same'))\n",
    "# model.add(layers.Flatten())\n",
    "# model.add(layers.Dense(1000, activation='relu'))\n",
    "# model.add(layers.Dense(200, activation='relu'))\n",
    "# model.add(layers.Dense(10, activation='softmax'))\n",
    "\n",
    "model = models.load_model('.\\SavedModels\\iterCNN')"
   ]
  },
  {
   "cell_type": "code",
   "execution_count": 7,
   "metadata": {},
   "outputs": [],
   "source": [
    "model.compile(loss='categorical_crossentropy',\n",
    "              optimizer=optimizers.SGD(learning_rate=.0001),\n",
    "              metrics=['categorical_accuracy'])"
   ]
  },
  {
   "cell_type": "code",
   "execution_count": 8,
   "metadata": {},
   "outputs": [
    {
     "name": "stdout",
     "output_type": "stream",
     "text": [
      "Model: \"sequential\"\n",
      "_________________________________________________________________\n",
      "Layer (type)                 Output Shape              Param #   \n",
      "=================================================================\n",
      "conv2d (Conv2D)              (None, 538, 488, 64)      640       \n",
      "_________________________________________________________________\n",
      "conv2d_1 (Conv2D)            (None, 536, 486, 64)      36928     \n",
      "_________________________________________________________________\n",
      "max_pooling2d (MaxPooling2D) (None, 268, 243, 64)      0         \n",
      "_________________________________________________________________\n",
      "conv2d_2 (Conv2D)            (None, 266, 241, 128)     73856     \n",
      "_________________________________________________________________\n",
      "conv2d_3 (Conv2D)            (None, 264, 239, 128)     147584    \n",
      "_________________________________________________________________\n",
      "max_pooling2d_1 (MaxPooling2 (None, 132, 120, 128)     0         \n",
      "_________________________________________________________________\n",
      "conv2d_4 (Conv2D)            (None, 130, 118, 256)     295168    \n",
      "_________________________________________________________________\n",
      "conv2d_5 (Conv2D)            (None, 128, 116, 256)     590080    \n",
      "_________________________________________________________________\n",
      "conv2d_6 (Conv2D)            (None, 126, 114, 256)     590080    \n",
      "_________________________________________________________________\n",
      "conv2d_7 (Conv2D)            (None, 124, 112, 256)     590080    \n",
      "_________________________________________________________________\n",
      "max_pooling2d_2 (MaxPooling2 (None, 62, 56, 256)       0         \n",
      "_________________________________________________________________\n",
      "conv2d_8 (Conv2D)            (None, 60, 54, 512)       1180160   \n",
      "_________________________________________________________________\n",
      "conv2d_9 (Conv2D)            (None, 58, 52, 512)       2359808   \n",
      "_________________________________________________________________\n",
      "conv2d_10 (Conv2D)           (None, 56, 50, 512)       2359808   \n",
      "_________________________________________________________________\n",
      "conv2d_11 (Conv2D)           (None, 54, 48, 512)       2359808   \n",
      "_________________________________________________________________\n",
      "max_pooling2d_3 (MaxPooling2 (None, 27, 24, 512)       0         \n",
      "_________________________________________________________________\n",
      "conv2d_12 (Conv2D)           (None, 25, 22, 512)       2359808   \n",
      "_________________________________________________________________\n",
      "conv2d_13 (Conv2D)           (None, 23, 20, 512)       2359808   \n",
      "_________________________________________________________________\n",
      "conv2d_14 (Conv2D)           (None, 21, 18, 512)       2359808   \n",
      "_________________________________________________________________\n",
      "conv2d_15 (Conv2D)           (None, 19, 16, 512)       2359808   \n",
      "_________________________________________________________________\n",
      "max_pooling2d_4 (MaxPooling2 (None, 10, 8, 512)        0         \n",
      "_________________________________________________________________\n",
      "flatten (Flatten)            (None, 40960)             0         \n",
      "_________________________________________________________________\n",
      "dense (Dense)                (None, 1000)              40961000  \n",
      "_________________________________________________________________\n",
      "dense_1 (Dense)              (None, 200)               200200    \n",
      "_________________________________________________________________\n",
      "dense_2 (Dense)              (None, 10)                2010      \n",
      "=================================================================\n",
      "Total params: 61,186,442\n",
      "Trainable params: 61,186,442\n",
      "Non-trainable params: 0\n",
      "_________________________________________________________________\n"
     ]
    }
   ],
   "source": [
    "model.summary()"
   ]
  },
  {
   "cell_type": "code",
   "execution_count": 9,
   "metadata": {},
   "outputs": [],
   "source": [
    "callbacks = [\n",
    "    ModelCheckpoint(\n",
    "        filepath='.\\SavedModels\\iterCNN',\n",
    "        save_best_only=True,\n",
    "        monitor=\"loss\",\n",
    "        verbose=1\n",
    "    ),\n",
    "    ReduceLROnPlateau(\n",
    "        monitor='loss', \n",
    "        factor=0.1, \n",
    "        patience=3,\n",
    "        min_delta=.01,\n",
    "        cooldown = 3\n",
    "    ),\n",
    "    EarlyStopping(\n",
    "    monitor=\"loss\",\n",
    "    min_delta=.01,\n",
    "    patience=8,\n",
    "    restore_best_weights=True\n",
    "    )\n",
    "]"
   ]
  },
  {
   "cell_type": "code",
   "execution_count": 10,
   "metadata": {},
   "outputs": [
    {
     "name": "stdout",
     "output_type": "stream",
     "text": [
      "Epoch 1/16\n",
      "   2/3755 [..............................] - ETA: 12:23 - loss: 0.2655 - categorical_accuracy: 0.9375WARNING:tensorflow:Callbacks method `on_train_batch_end` is slow compared to the batch time (batch time: 0.1317s vs `on_train_batch_end` time: 0.2653s). Check your callbacks.\n",
      "3755/3755 [==============================] - ETA: 0s - loss: 0.5797 - categorical_accuracy: 0.8026\n",
      "Epoch 00001: loss improved from inf to 0.57967, saving model to .\\SavedModels\\iterCNN\n",
      "WARNING:tensorflow:From C:\\Users\\mattl\\anaconda3\\envs\\learn-env\\lib\\site-packages\\tensorflow\\python\\training\\tracking\\tracking.py:111: Model.state_updates (from tensorflow.python.keras.engine.training) is deprecated and will be removed in a future version.\n",
      "Instructions for updating:\n",
      "This property should not be used in TensorFlow 2.0, as updates are applied automatically.\n",
      "WARNING:tensorflow:From C:\\Users\\mattl\\anaconda3\\envs\\learn-env\\lib\\site-packages\\tensorflow\\python\\training\\tracking\\tracking.py:111: Layer.updates (from tensorflow.python.keras.engine.base_layer) is deprecated and will be removed in a future version.\n",
      "Instructions for updating:\n",
      "This property should not be used in TensorFlow 2.0, as updates are applied automatically.\n",
      "INFO:tensorflow:Assets written to: .\\SavedModels\\iterCNN\\assets\n",
      "3755/3755 [==============================] - 1637s 436ms/step - loss: 0.5797 - categorical_accuracy: 0.8026 - val_loss: 0.6167 - val_categorical_accuracy: 0.7900\n",
      "Epoch 2/16\n",
      "3755/3755 [==============================] - ETA: 0s - loss: 0.5120 - categorical_accuracy: 0.8249\n",
      "Epoch 00002: loss improved from 0.57967 to 0.51196, saving model to .\\SavedModels\\iterCNN\n",
      "INFO:tensorflow:Assets written to: .\\SavedModels\\iterCNN\\assets\n",
      "3755/3755 [==============================] - 1636s 436ms/step - loss: 0.5120 - categorical_accuracy: 0.8249 - val_loss: 0.6499 - val_categorical_accuracy: 0.7772\n",
      "Epoch 3/16\n",
      "3755/3755 [==============================] - ETA: 0s - loss: 0.4513 - categorical_accuracy: 0.8475\n",
      "Epoch 00003: loss improved from 0.51196 to 0.45132, saving model to .\\SavedModels\\iterCNN\n",
      "INFO:tensorflow:Assets written to: .\\SavedModels\\iterCNN\\assets\n",
      "3755/3755 [==============================] - 1644s 438ms/step - loss: 0.4513 - categorical_accuracy: 0.8475 - val_loss: 0.4909 - val_categorical_accuracy: 0.8404\n",
      "Epoch 4/16\n",
      "3755/3755 [==============================] - ETA: 0s - loss: 0.4202 - categorical_accuracy: 0.8573\n",
      "Epoch 00004: loss improved from 0.45132 to 0.42021, saving model to .\\SavedModels\\iterCNN\n",
      "INFO:tensorflow:Assets written to: .\\SavedModels\\iterCNN\\assets\n",
      "3755/3755 [==============================] - 1644s 438ms/step - loss: 0.4202 - categorical_accuracy: 0.8573 - val_loss: 0.4685 - val_categorical_accuracy: 0.8542\n",
      "Epoch 5/16\n",
      "3755/3755 [==============================] - ETA: 0s - loss: 0.3664 - categorical_accuracy: 0.8733\n",
      "Epoch 00005: loss improved from 0.42021 to 0.36642, saving model to .\\SavedModels\\iterCNN\n",
      "INFO:tensorflow:Assets written to: .\\SavedModels\\iterCNN\\assets\n",
      "3755/3755 [==============================] - 1662s 443ms/step - loss: 0.3664 - categorical_accuracy: 0.8733 - val_loss: 0.6075 - val_categorical_accuracy: 0.8121\n",
      "Epoch 6/16\n",
      "3755/3755 [==============================] - ETA: 0s - loss: 0.3295 - categorical_accuracy: 0.8865\n",
      "Epoch 00006: loss improved from 0.36642 to 0.32953, saving model to .\\SavedModels\\iterCNN\n",
      "INFO:tensorflow:Assets written to: .\\SavedModels\\iterCNN\\assets\n",
      "3755/3755 [==============================] - 1646s 438ms/step - loss: 0.3295 - categorical_accuracy: 0.8865 - val_loss: 0.4793 - val_categorical_accuracy: 0.8475\n",
      "Epoch 7/16\n",
      "3755/3755 [==============================] - ETA: 0s - loss: 0.3036 - categorical_accuracy: 0.8974\n",
      "Epoch 00007: loss improved from 0.32953 to 0.30363, saving model to .\\SavedModels\\iterCNN\n",
      "INFO:tensorflow:Assets written to: .\\SavedModels\\iterCNN\\assets\n",
      "3755/3755 [==============================] - 1654s 440ms/step - loss: 0.3036 - categorical_accuracy: 0.8974 - val_loss: 0.5480 - val_categorical_accuracy: 0.8412\n",
      "Epoch 8/16\n",
      "3755/3755 [==============================] - ETA: 0s - loss: 0.2658 - categorical_accuracy: 0.9096\n",
      "Epoch 00008: loss improved from 0.30363 to 0.26578, saving model to .\\SavedModels\\iterCNN\n",
      "INFO:tensorflow:Assets written to: .\\SavedModels\\iterCNN\\assets\n",
      "3755/3755 [==============================] - 1649s 439ms/step - loss: 0.2658 - categorical_accuracy: 0.9096 - val_loss: 0.4891 - val_categorical_accuracy: 0.8622\n",
      "Epoch 9/16\n",
      "3755/3755 [==============================] - ETA: 0s - loss: 0.2337 - categorical_accuracy: 0.9199\n",
      "Epoch 00009: loss improved from 0.26578 to 0.23373, saving model to .\\SavedModels\\iterCNN\n",
      "INFO:tensorflow:Assets written to: .\\SavedModels\\iterCNN\\assets\n",
      "3755/3755 [==============================] - 1644s 438ms/step - loss: 0.2337 - categorical_accuracy: 0.9199 - val_loss: 0.5276 - val_categorical_accuracy: 0.8630\n",
      "Epoch 10/16\n",
      "3755/3755 [==============================] - ETA: 0s - loss: 0.2098 - categorical_accuracy: 0.9290\n",
      "Epoch 00010: loss improved from 0.23373 to 0.20977, saving model to .\\SavedModels\\iterCNN\n",
      "INFO:tensorflow:Assets written to: .\\SavedModels\\iterCNN\\assets\n",
      "3755/3755 [==============================] - 1652s 440ms/step - loss: 0.2098 - categorical_accuracy: 0.9290 - val_loss: 0.5318 - val_categorical_accuracy: 0.8590\n",
      "Epoch 11/16\n",
      "3755/3755 [==============================] - ETA: 0s - loss: 0.1934 - categorical_accuracy: 0.9360\n",
      "Epoch 00011: loss improved from 0.20977 to 0.19341, saving model to .\\SavedModels\\iterCNN\n",
      "INFO:tensorflow:Assets written to: .\\SavedModels\\iterCNN\\assets\n",
      "3755/3755 [==============================] - 1645s 438ms/step - loss: 0.1934 - categorical_accuracy: 0.9360 - val_loss: 0.4886 - val_categorical_accuracy: 0.8686\n",
      "Epoch 12/16\n",
      "3755/3755 [==============================] - ETA: 0s - loss: 0.1826 - categorical_accuracy: 0.9421\n",
      "Epoch 00012: loss improved from 0.19341 to 0.18256, saving model to .\\SavedModels\\iterCNN\n",
      "INFO:tensorflow:Assets written to: .\\SavedModels\\iterCNN\\assets\n",
      "3755/3755 [==============================] - 1652s 440ms/step - loss: 0.1826 - categorical_accuracy: 0.9421 - val_loss: 0.5440 - val_categorical_accuracy: 0.8590\n",
      "Epoch 13/16\n",
      "3755/3755 [==============================] - ETA: 0s - loss: 0.1676 - categorical_accuracy: 0.9452\n",
      "Epoch 00013: loss improved from 0.18256 to 0.16761, saving model to .\\SavedModels\\iterCNN\n",
      "INFO:tensorflow:Assets written to: .\\SavedModels\\iterCNN\\assets\n",
      "3755/3755 [==============================] - 1648s 439ms/step - loss: 0.1676 - categorical_accuracy: 0.9452 - val_loss: 0.5753 - val_categorical_accuracy: 0.8673\n",
      "Epoch 14/16\n",
      "3755/3755 [==============================] - ETA: 0s - loss: 0.1506 - categorical_accuracy: 0.9526\n",
      "Epoch 00014: loss improved from 0.16761 to 0.15064, saving model to .\\SavedModels\\iterCNN\n",
      "INFO:tensorflow:Assets written to: .\\SavedModels\\iterCNN\\assets\n",
      "3755/3755 [==============================] - 1658s 442ms/step - loss: 0.1506 - categorical_accuracy: 0.9526 - val_loss: 0.5484 - val_categorical_accuracy: 0.8662\n",
      "Epoch 15/16\n",
      "3755/3755 [==============================] - ETA: 0s - loss: 0.1316 - categorical_accuracy: 0.9585\n",
      "Epoch 00015: loss improved from 0.15064 to 0.13159, saving model to .\\SavedModels\\iterCNN\n",
      "INFO:tensorflow:Assets written to: .\\SavedModels\\iterCNN\\assets\n",
      "3755/3755 [==============================] - 1651s 440ms/step - loss: 0.1316 - categorical_accuracy: 0.9585 - val_loss: 0.6182 - val_categorical_accuracy: 0.8561\n",
      "Epoch 16/16\n",
      "3755/3755 [==============================] - ETA: 0s - loss: 0.1165 - categorical_accuracy: 0.9628\n",
      "Epoch 00016: loss improved from 0.13159 to 0.11653, saving model to .\\SavedModels\\iterCNN\n",
      "INFO:tensorflow:Assets written to: .\\SavedModels\\iterCNN\\assets\n",
      "3755/3755 [==============================] - 1653s 440ms/step - loss: 0.1165 - categorical_accuracy: 0.9628 - val_loss: 0.6519 - val_categorical_accuracy: 0.8483\n"
     ]
    }
   ],
   "source": [
    "history = model.fit(train_generator,\n",
    "                        steps_per_epoch= 30041//batch_size,\n",
    "                        epochs=16,\n",
    "                        validation_data=val_generator,\n",
    "                        validation_steps= 3756//batch_size,\n",
    "                        callbacks = callbacks\n",
    "                    )"
   ]
  },
  {
   "cell_type": "code",
   "execution_count": 11,
   "metadata": {},
   "outputs": [
    {
     "data": {
      "text/plain": [
       "{'loss': [0.5796748399734497,\n",
       "  0.5119628310203552,\n",
       "  0.45132118463516235,\n",
       "  0.42021360993385315,\n",
       "  0.3664175271987915,\n",
       "  0.3295261263847351,\n",
       "  0.3036345839500427,\n",
       "  0.2657826244831085,\n",
       "  0.2337251454591751,\n",
       "  0.20977185666561127,\n",
       "  0.19340920448303223,\n",
       "  0.18255536258220673,\n",
       "  0.16760879755020142,\n",
       "  0.1506403237581253,\n",
       "  0.1315905600786209,\n",
       "  0.11652768403291702],\n",
       " 'categorical_accuracy': [0.8026171326637268,\n",
       "  0.8248926401138306,\n",
       "  0.8475343585014343,\n",
       "  0.8572570085525513,\n",
       "  0.8733060359954834,\n",
       "  0.8864915370941162,\n",
       "  0.8973795771598816,\n",
       "  0.9095994234085083,\n",
       "  0.9198548197746277,\n",
       "  0.9290114045143127,\n",
       "  0.936037003993988,\n",
       "  0.9420637488365173,\n",
       "  0.9451603293418884,\n",
       "  0.9525855183601379,\n",
       "  0.9584789872169495,\n",
       "  0.9627742767333984],\n",
       " 'val_loss': [0.6167066097259521,\n",
       "  0.6498900055885315,\n",
       "  0.4908738136291504,\n",
       "  0.46852558851242065,\n",
       "  0.6075376272201538,\n",
       "  0.47934991121292114,\n",
       "  0.5480213761329651,\n",
       "  0.489112913608551,\n",
       "  0.5276487469673157,\n",
       "  0.5318435430526733,\n",
       "  0.48858779668807983,\n",
       "  0.5439572334289551,\n",
       "  0.5753172636032104,\n",
       "  0.5484476685523987,\n",
       "  0.6182177662849426,\n",
       "  0.6519307494163513],\n",
       " 'val_categorical_accuracy': [0.7899786829948425,\n",
       "  0.7771854996681213,\n",
       "  0.8403518199920654,\n",
       "  0.8542110919952393,\n",
       "  0.8121002316474915,\n",
       "  0.8475479483604431,\n",
       "  0.8411513566970825,\n",
       "  0.8622068166732788,\n",
       "  0.8630064129829407,\n",
       "  0.8590085506439209,\n",
       "  0.8686034083366394,\n",
       "  0.8590085506439209,\n",
       "  0.8672707676887512,\n",
       "  0.8662046790122986,\n",
       "  0.8560767769813538,\n",
       "  0.848347544670105],\n",
       " 'lr': [1e-04,\n",
       "  1e-04,\n",
       "  1e-04,\n",
       "  1e-04,\n",
       "  1e-04,\n",
       "  1e-04,\n",
       "  1e-04,\n",
       "  1e-04,\n",
       "  1e-04,\n",
       "  1e-04,\n",
       "  1e-04,\n",
       "  1e-04,\n",
       "  1e-04,\n",
       "  1e-04,\n",
       "  1e-04,\n",
       "  1e-04]}"
      ]
     },
     "execution_count": 11,
     "metadata": {},
     "output_type": "execute_result"
    }
   ],
   "source": [
    "history.history"
   ]
  },
  {
   "cell_type": "code",
   "execution_count": 12,
   "metadata": {},
   "outputs": [
    {
     "data": {
      "image/png": "[encoded data removed]",
      "text/plain": [
       "<Figure size 432x288 with 1 Axes>"
      ]
     },
     "metadata": {
      "needs_background": "light"
     },
     "output_type": "display_data"
    },
    {
     "data": {
      "image/png": "[encoded data removed]",
      "text/plain": [
       "<Figure size 432x288 with 1 Axes>"
      ]
     },
     "metadata": {
      "needs_background": "light"
     },
     "output_type": "display_data"
    }
   ],
   "source": [
    "acc = history.history['categorical_accuracy']\n",
    "val_acc = history.history['val_categorical_accuracy']\n",
    "loss = history.history['loss']\n",
    "val_loss = history.history['val_loss']\n",
    "epochs = range(len(acc))\n",
    "plt.plot(epochs, acc, 'bo', label='Training acc')\n",
    "plt.plot(epochs, val_acc, 'b', label='Validation acc')\n",
    "plt.title('Training and validation accuracy')\n",
    "plt.legend()\n",
    "plt.figure()\n",
    "plt.plot(epochs, loss, 'bo', label='Training loss')\n",
    "plt.plot(epochs, val_loss, 'b', label='Validation loss')\n",
    "plt.title('Training and validation loss')\n",
    "plt.legend()\n",
    "plt.show()"
   ]
  },
  {
   "cell_type": "code",
   "execution_count": 14,
   "metadata": {},
   "outputs": [
    {
     "name": "stdout",
     "output_type": "stream",
     "text": [
      "470/470 [==============================] - 75s 159ms/step - loss: 0.6611 - categorical_accuracy: 0.8416\n"
     ]
    }
   ],
   "source": [
    "results = model.evaluate(test_generator)"
   ]
  },
  {
   "cell_type": "code",
   "execution_count": 26,
   "metadata": {},
   "outputs": [],
   "source": [
    "preds = np.argmax(model.predict(test_generator), axis = -1)"
   ]
  },
  {
   "cell_type": "code",
   "execution_count": 27,
   "metadata": {},
   "outputs": [
    {
     "name": "stdout",
     "output_type": "stream",
     "text": [
      "[[486   1   0   0   0   0   0   0   3   0]\n",
      " [  4 358  44   0   0   0   1   0  62  11]\n",
      " [  0   6 425   0   9   2   0   0  12   6]\n",
      " [  0   0   0 378   1  27  17  15  29   7]\n",
      " [  0   2  16   0 418  15   4   3   6   7]\n",
      " [  0   0   4   8  15 400   2   7   1   0]\n",
      " [ 11   0   0   2   0   9 163   1   8   4]\n",
      " [  0   0   0   9   2  47   0 156   2   0]\n",
      " [ 17   5   6  15   4  10   8   8 312  25]\n",
      " [  5   0   3   1   0   1   6   0  39  65]]\n"
     ]
    }
   ],
   "source": [
    "print(confusion_matrix(test_generator.classes,preds))"
   ]
  },
  {
   "cell_type": "code",
   "execution_count": 28,
   "metadata": {},
   "outputs": [
    {
     "name": "stdout",
     "output_type": "stream",
     "text": [
      "              precision    recall  f1-score   support\n",
      "\n",
      "           F       0.93      0.99      0.96       490\n",
      "           G       0.96      0.75      0.84       480\n",
      "           H       0.85      0.92      0.89       460\n",
      "           I       0.92      0.80      0.85       474\n",
      "           J       0.93      0.89      0.91       471\n",
      "           K       0.78      0.92      0.84       437\n",
      "           L       0.81      0.82      0.82       198\n",
      "           M       0.82      0.72      0.77       216\n",
      "           N       0.66      0.76      0.71       410\n",
      "           O       0.52      0.54      0.53       120\n",
      "\n",
      "    accuracy                           0.84      3756\n",
      "   macro avg       0.82      0.81      0.81      3756\n",
      "weighted avg       0.85      0.84      0.84      3756\n",
      "\n"
     ]
    }
   ],
   "source": [
    "target_names = list(test_generator.class_indices.keys())\n",
    "print(classification_report(test_generator.classes,preds,target_names = target_names))"
   ]
  },
  {
   "cell_type": "markdown",
   "metadata": {},
   "source": [
    "# Building Model 2"
   ]
  },
  {
   "cell_type": "markdown",
   "metadata": {},
   "source": [
    "While the results of the previous model were strong, I did it in multiple sessions, and so did not have the full history for presentation purposes. Plus, it is nice to verify the results with a second run."
   ]
  },
  {
   "cell_type": "code",
   "execution_count": 5,
   "metadata": {},
   "outputs": [],
   "source": [
    "model2 = models.Sequential()\n",
    "model2.add(layers.Conv2D(64, (3, 3), activation='relu',\n",
    "                        input_shape=(540, 490, 1)))\n",
    "model2.add(layers.Conv2D(64, (3, 3), activation='relu'))\n",
    "model2.add(layers.MaxPooling2D((2, 2),padding = 'same'))\n",
    "model2.add(layers.Conv2D(128, (3, 3), activation='relu'))\n",
    "model2.add(layers.Conv2D(128, (3, 3), activation='relu'))\n",
    "model2.add(layers.MaxPooling2D((2, 2),padding = 'same'))\n",
    "model2.add(layers.Conv2D(256, (3, 3), activation='relu'))\n",
    "model2.add(layers.Conv2D(256, (3, 3), activation='relu'))\n",
    "model2.add(layers.Conv2D(256, (3, 3), activation='relu'))\n",
    "model2.add(layers.Conv2D(256, (3, 3), activation='relu'))\n",
    "model2.add(layers.MaxPooling2D((2, 2),padding = 'same'))\n",
    "model2.add(layers.Conv2D(512, (3, 3), activation='relu'))\n",
    "model2.add(layers.Conv2D(512, (3, 3), activation='relu'))\n",
    "model2.add(layers.Conv2D(512, (3, 3), activation='relu'))\n",
    "model2.add(layers.Conv2D(512, (3, 3), activation='relu'))\n",
    "model2.add(layers.MaxPooling2D((2, 2),padding = 'same'))\n",
    "model2.add(layers.Conv2D(512, (3, 3), activation='relu'))\n",
    "model2.add(layers.Conv2D(512, (3, 3), activation='relu'))\n",
    "model2.add(layers.Conv2D(512, (3, 3), activation='relu'))\n",
    "model2.add(layers.Conv2D(512, (3, 3), activation='relu'))\n",
    "model2.add(layers.MaxPooling2D((2, 2),padding = 'same'))\n",
    "model2.add(layers.Flatten())\n",
    "model2.add(layers.Dense(1000, activation='relu'))\n",
    "model2.add(layers.Dense(200, activation='relu'))\n",
    "model2.add(layers.Dense(10, activation='softmax'))"
   ]
  },
  {
   "cell_type": "code",
   "execution_count": 6,
   "metadata": {},
   "outputs": [],
   "source": [
    "model2.compile(loss='categorical_crossentropy',\n",
    "              optimizer=optimizers.SGD(learning_rate=.0001),\n",
    "              metrics=['categorical_accuracy'])"
   ]
  },
  {
   "cell_type": "code",
   "execution_count": 8,
   "metadata": {},
   "outputs": [
    {
     "name": "stdout",
     "output_type": "stream",
     "text": [
      "Model: \"sequential\"\n",
      "_________________________________________________________________\n",
      "Layer (type)                 Output Shape              Param #   \n",
      "=================================================================\n",
      "conv2d (Conv2D)              (None, 538, 488, 64)      640       \n",
      "_________________________________________________________________\n",
      "conv2d_1 (Conv2D)            (None, 536, 486, 64)      36928     \n",
      "_________________________________________________________________\n",
      "max_pooling2d (MaxPooling2D) (None, 268, 243, 64)      0         \n",
      "_________________________________________________________________\n",
      "conv2d_2 (Conv2D)            (None, 266, 241, 128)     73856     \n",
      "_________________________________________________________________\n",
      "conv2d_3 (Conv2D)            (None, 264, 239, 128)     147584    \n",
      "_________________________________________________________________\n",
      "max_pooling2d_1 (MaxPooling2 (None, 132, 120, 128)     0         \n",
      "_________________________________________________________________\n",
      "conv2d_4 (Conv2D)            (None, 130, 118, 256)     295168    \n",
      "_________________________________________________________________\n",
      "conv2d_5 (Conv2D)            (None, 128, 116, 256)     590080    \n",
      "_________________________________________________________________\n",
      "conv2d_6 (Conv2D)            (None, 126, 114, 256)     590080    \n",
      "_________________________________________________________________\n",
      "conv2d_7 (Conv2D)            (None, 124, 112, 256)     590080    \n",
      "_________________________________________________________________\n",
      "max_pooling2d_2 (MaxPooling2 (None, 62, 56, 256)       0         \n",
      "_________________________________________________________________\n",
      "conv2d_8 (Conv2D)            (None, 60, 54, 512)       1180160   \n",
      "_________________________________________________________________\n",
      "conv2d_9 (Conv2D)            (None, 58, 52, 512)       2359808   \n",
      "_________________________________________________________________\n",
      "conv2d_10 (Conv2D)           (None, 56, 50, 512)       2359808   \n",
      "_________________________________________________________________\n",
      "conv2d_11 (Conv2D)           (None, 54, 48, 512)       2359808   \n",
      "_________________________________________________________________\n",
      "max_pooling2d_3 (MaxPooling2 (None, 27, 24, 512)       0         \n",
      "_________________________________________________________________\n",
      "conv2d_12 (Conv2D)           (None, 25, 22, 512)       2359808   \n",
      "_________________________________________________________________\n",
      "conv2d_13 (Conv2D)           (None, 23, 20, 512)       2359808   \n",
      "_________________________________________________________________\n",
      "conv2d_14 (Conv2D)           (None, 21, 18, 512)       2359808   \n",
      "_________________________________________________________________\n",
      "conv2d_15 (Conv2D)           (None, 19, 16, 512)       2359808   \n",
      "_________________________________________________________________\n",
      "max_pooling2d_4 (MaxPooling2 (None, 10, 8, 512)        0         \n",
      "_________________________________________________________________\n",
      "flatten (Flatten)            (None, 40960)             0         \n",
      "_________________________________________________________________\n",
      "dense (Dense)                (None, 1000)              40961000  \n",
      "_________________________________________________________________\n",
      "dense_1 (Dense)              (None, 200)               200200    \n",
      "_________________________________________________________________\n",
      "dense_2 (Dense)              (None, 10)                2010      \n",
      "=================================================================\n",
      "Total params: 61,186,442\n",
      "Trainable params: 61,186,442\n",
      "Non-trainable params: 0\n",
      "_________________________________________________________________\n"
     ]
    }
   ],
   "source": [
    "model2.summary()"
   ]
  },
  {
   "cell_type": "code",
   "execution_count": 9,
   "metadata": {},
   "outputs": [],
   "source": [
    "callbacks = [\n",
    "    ModelCheckpoint(\n",
    "        filepath='.\\SavedModels\\iterCNN2',\n",
    "        save_best_only=True,\n",
    "        monitor=\"val_accuracy\",\n",
    "        verbose=1\n",
    "    ),\n",
    "    ReduceLROnPlateau(\n",
    "        monitor='val_accuracy', \n",
    "        factor=0.1, \n",
    "        patience=3,\n",
    "        min_delta=.01,\n",
    "        cooldown = 3\n",
    "    ),\n",
    "    EarlyStopping(\n",
    "    monitor=\"val_accuracy\",\n",
    "    min_delta=.01,\n",
    "    patience=6,\n",
    "    restore_best_weights=True\n",
    "    )\n",
    "]"
   ]
  },
  {
   "cell_type": "code",
   "execution_count": 10,
   "metadata": {},
   "outputs": [
    {
     "name": "stdout",
     "output_type": "stream",
     "text": [
      "Epoch 1/20\n",
      "   2/3755 [..............................] - ETA: 11:51 - loss: 42.5445 - categorical_accuracy: 0.1250 WARNING:tensorflow:Callbacks method `on_train_batch_end` is slow compared to the batch time (batch time: 0.1257s vs `on_train_batch_end` time: 0.2533s). Check your callbacks.\n",
      "3755/3755 [==============================] - ETA: 0s - loss: 1.6909 - categorical_accuracy: 0.3684WARNING:tensorflow:Can save best model only with val_accuracy available, skipping.\n",
      "WARNING:tensorflow:Reduce LR on plateau conditioned on metric `val_accuracy` which is not available. Available metrics are: loss,categorical_accuracy,val_loss,val_categorical_accuracy,lr\n",
      "WARNING:tensorflow:Early stopping conditioned on metric `val_accuracy` which is not available. Available metrics are: loss,categorical_accuracy,val_loss,val_categorical_accuracy,lr\n",
      "3755/3755 [==============================] - 1573s 419ms/step - loss: 1.6909 - categorical_accuracy: 0.3684 - val_loss: 1.4106 - val_categorical_accuracy: 0.4907\n",
      "Epoch 2/20\n",
      "3755/3755 [==============================] - ETA: 0s - loss: 1.3823 - categorical_accuracy: 0.4899WARNING:tensorflow:Can save best model only with val_accuracy available, skipping.\n",
      "WARNING:tensorflow:Reduce LR on plateau conditioned on metric `val_accuracy` which is not available. Available metrics are: loss,categorical_accuracy,val_loss,val_categorical_accuracy,lr\n",
      "WARNING:tensorflow:Early stopping conditioned on metric `val_accuracy` which is not available. Available metrics are: loss,categorical_accuracy,val_loss,val_categorical_accuracy,lr\n",
      "3755/3755 [==============================] - 1583s 422ms/step - loss: 1.3823 - categorical_accuracy: 0.4899 - val_loss: 1.2304 - val_categorical_accuracy: 0.5336\n",
      "Epoch 3/20\n",
      "3755/3755 [==============================] - ETA: 0s - loss: 1.1981 - categorical_accuracy: 0.5628WARNING:tensorflow:Can save best model only with val_accuracy available, skipping.\n",
      "WARNING:tensorflow:Reduce LR on plateau conditioned on metric `val_accuracy` which is not available. Available metrics are: loss,categorical_accuracy,val_loss,val_categorical_accuracy,lr\n",
      "WARNING:tensorflow:Early stopping conditioned on metric `val_accuracy` which is not available. Available metrics are: loss,categorical_accuracy,val_loss,val_categorical_accuracy,lr\n",
      "3755/3755 [==============================] - 1594s 424ms/step - loss: 1.1981 - categorical_accuracy: 0.5628 - val_loss: 1.2286 - val_categorical_accuracy: 0.5458\n",
      "Epoch 4/20\n",
      "3755/3755 [==============================] - ETA: 0s - loss: 1.0088 - categorical_accuracy: 0.6334WARNING:tensorflow:Can save best model only with val_accuracy available, skipping.\n",
      "WARNING:tensorflow:Reduce LR on plateau conditioned on metric `val_accuracy` which is not available. Available metrics are: loss,categorical_accuracy,val_loss,val_categorical_accuracy,lr\n",
      "WARNING:tensorflow:Early stopping conditioned on metric `val_accuracy` which is not available. Available metrics are: loss,categorical_accuracy,val_loss,val_categorical_accuracy,lr\n",
      "3755/3755 [==============================] - 1599s 426ms/step - loss: 1.0088 - categorical_accuracy: 0.6334 - val_loss: 0.9065 - val_categorical_accuracy: 0.6810\n",
      "Epoch 5/20\n",
      "3755/3755 [==============================] - ETA: 0s - loss: 0.8519 - categorical_accuracy: 0.6899WARNING:tensorflow:Can save best model only with val_accuracy available, skipping.\n",
      "WARNING:tensorflow:Reduce LR on plateau conditioned on metric `val_accuracy` which is not available. Available metrics are: loss,categorical_accuracy,val_loss,val_categorical_accuracy,lr\n",
      "WARNING:tensorflow:Early stopping conditioned on metric `val_accuracy` which is not available. Available metrics are: loss,categorical_accuracy,val_loss,val_categorical_accuracy,lr\n",
      "3755/3755 [==============================] - 1591s 424ms/step - loss: 0.8519 - categorical_accuracy: 0.6899 - val_loss: 0.7759 - val_categorical_accuracy: 0.7071\n",
      "Epoch 6/20\n",
      "3755/3755 [==============================] - ETA: 0s - loss: 0.7559 - categorical_accuracy: 0.7257WARNING:tensorflow:Can save best model only with val_accuracy available, skipping.\n",
      "WARNING:tensorflow:Reduce LR on plateau conditioned on metric `val_accuracy` which is not available. Available metrics are: loss,categorical_accuracy,val_loss,val_categorical_accuracy,lr\n",
      "WARNING:tensorflow:Early stopping conditioned on metric `val_accuracy` which is not available. Available metrics are: loss,categorical_accuracy,val_loss,val_categorical_accuracy,lr\n",
      "3755/3755 [==============================] - 1594s 425ms/step - loss: 0.7559 - categorical_accuracy: 0.7257 - val_loss: 0.7333 - val_categorical_accuracy: 0.7359\n",
      "Epoch 7/20\n",
      "3755/3755 [==============================] - ETA: 0s - loss: 0.6809 - categorical_accuracy: 0.7557WARNING:tensorflow:Can save best model only with val_accuracy available, skipping.\n",
      "WARNING:tensorflow:Reduce LR on plateau conditioned on metric `val_accuracy` which is not available. Available metrics are: loss,categorical_accuracy,val_loss,val_categorical_accuracy,lr\n",
      "WARNING:tensorflow:Early stopping conditioned on metric `val_accuracy` which is not available. Available metrics are: loss,categorical_accuracy,val_loss,val_categorical_accuracy,lr\n",
      "3755/3755 [==============================] - 1591s 424ms/step - loss: 0.6809 - categorical_accuracy: 0.7557 - val_loss: 0.6765 - val_categorical_accuracy: 0.7830\n",
      "Epoch 8/20\n",
      "3755/3755 [==============================] - ETA: 0s - loss: 0.5979 - categorical_accuracy: 0.7894WARNING:tensorflow:Can save best model only with val_accuracy available, skipping.\n",
      "WARNING:tensorflow:Reduce LR on plateau conditioned on metric `val_accuracy` which is not available. Available metrics are: loss,categorical_accuracy,val_loss,val_categorical_accuracy,lr\n",
      "WARNING:tensorflow:Early stopping conditioned on metric `val_accuracy` which is not available. Available metrics are: loss,categorical_accuracy,val_loss,val_categorical_accuracy,lr\n",
      "3755/3755 [==============================] - 1593s 424ms/step - loss: 0.5979 - categorical_accuracy: 0.7894 - val_loss: 0.6054 - val_categorical_accuracy: 0.8020\n",
      "Epoch 9/20\n",
      "3755/3755 [==============================] - ETA: 0s - loss: 0.5389 - categorical_accuracy: 0.8120WARNING:tensorflow:Can save best model only with val_accuracy available, skipping.\n",
      "WARNING:tensorflow:Reduce LR on plateau conditioned on metric `val_accuracy` which is not available. Available metrics are: loss,categorical_accuracy,val_loss,val_categorical_accuracy,lr\n",
      "WARNING:tensorflow:Early stopping conditioned on metric `val_accuracy` which is not available. Available metrics are: loss,categorical_accuracy,val_loss,val_categorical_accuracy,lr\n",
      "3755/3755 [==============================] - 1591s 424ms/step - loss: 0.5389 - categorical_accuracy: 0.8120 - val_loss: 0.5885 - val_categorical_accuracy: 0.8054\n",
      "Epoch 10/20\n",
      "3755/3755 [==============================] - ETA: 0s - loss: 0.4862 - categorical_accuracy: 0.8305WARNING:tensorflow:Can save best model only with val_accuracy available, skipping.\n",
      "WARNING:tensorflow:Reduce LR on plateau conditioned on metric `val_accuracy` which is not available. Available metrics are: loss,categorical_accuracy,val_loss,val_categorical_accuracy,lr\n",
      "WARNING:tensorflow:Early stopping conditioned on metric `val_accuracy` which is not available. Available metrics are: loss,categorical_accuracy,val_loss,val_categorical_accuracy,lr\n",
      "3755/3755 [==============================] - 1592s 424ms/step - loss: 0.4862 - categorical_accuracy: 0.8305 - val_loss: 0.5850 - val_categorical_accuracy: 0.7985\n",
      "Epoch 11/20\n",
      "3755/3755 [==============================] - ETA: 0s - loss: 0.4320 - categorical_accuracy: 0.8520WARNING:tensorflow:Can save best model only with val_accuracy available, skipping.\n",
      "WARNING:tensorflow:Reduce LR on plateau conditioned on metric `val_accuracy` which is not available. Available metrics are: loss,categorical_accuracy,val_loss,val_categorical_accuracy,lr\n",
      "WARNING:tensorflow:Early stopping conditioned on metric `val_accuracy` which is not available. Available metrics are: loss,categorical_accuracy,val_loss,val_categorical_accuracy,lr\n",
      "3755/3755 [==============================] - 1588s 423ms/step - loss: 0.4320 - categorical_accuracy: 0.8520 - val_loss: 0.6543 - val_categorical_accuracy: 0.7854\n",
      "Epoch 12/20\n",
      "3755/3755 [==============================] - ETA: 0s - loss: 0.3907 - categorical_accuracy: 0.8655WARNING:tensorflow:Can save best model only with val_accuracy available, skipping.\n",
      "WARNING:tensorflow:Reduce LR on plateau conditioned on metric `val_accuracy` which is not available. Available metrics are: loss,categorical_accuracy,val_loss,val_categorical_accuracy,lr\n",
      "WARNING:tensorflow:Early stopping conditioned on metric `val_accuracy` which is not available. Available metrics are: loss,categorical_accuracy,val_loss,val_categorical_accuracy,lr\n",
      "3755/3755 [==============================] - 1588s 423ms/step - loss: 0.3907 - categorical_accuracy: 0.8655 - val_loss: 0.4935 - val_categorical_accuracy: 0.8409\n",
      "Epoch 13/20\n",
      "3755/3755 [==============================] - ETA: 0s - loss: 0.3563 - categorical_accuracy: 0.8778WARNING:tensorflow:Can save best model only with val_accuracy available, skipping.\n",
      "WARNING:tensorflow:Reduce LR on plateau conditioned on metric `val_accuracy` which is not available. Available metrics are: loss,categorical_accuracy,val_loss,val_categorical_accuracy,lr\n",
      "WARNING:tensorflow:Early stopping conditioned on metric `val_accuracy` which is not available. Available metrics are: loss,categorical_accuracy,val_loss,val_categorical_accuracy,lr\n",
      "3755/3755 [==============================] - 1591s 424ms/step - loss: 0.3563 - categorical_accuracy: 0.8778 - val_loss: 0.4238 - val_categorical_accuracy: 0.8582\n",
      "Epoch 14/20\n",
      "3755/3755 [==============================] - ETA: 0s - loss: 0.3245 - categorical_accuracy: 0.8900WARNING:tensorflow:Can save best model only with val_accuracy available, skipping.\n",
      "WARNING:tensorflow:Reduce LR on plateau conditioned on metric `val_accuracy` which is not available. Available metrics are: loss,categorical_accuracy,val_loss,val_categorical_accuracy,lr\n",
      "WARNING:tensorflow:Early stopping conditioned on metric `val_accuracy` which is not available. Available metrics are: loss,categorical_accuracy,val_loss,val_categorical_accuracy,lr\n",
      "3755/3755 [==============================] - 1595s 425ms/step - loss: 0.3245 - categorical_accuracy: 0.8900 - val_loss: 0.4356 - val_categorical_accuracy: 0.8678\n",
      "Epoch 15/20\n",
      "3755/3755 [==============================] - ETA: 0s - loss: 0.2848 - categorical_accuracy: 0.9023WARNING:tensorflow:Can save best model only with val_accuracy available, skipping.\n",
      "WARNING:tensorflow:Reduce LR on plateau conditioned on metric `val_accuracy` which is not available. Available metrics are: loss,categorical_accuracy,val_loss,val_categorical_accuracy,lr\n",
      "WARNING:tensorflow:Early stopping conditioned on metric `val_accuracy` which is not available. Available metrics are: loss,categorical_accuracy,val_loss,val_categorical_accuracy,lr\n",
      "3755/3755 [==============================] - 1590s 424ms/step - loss: 0.2848 - categorical_accuracy: 0.9023 - val_loss: 0.4938 - val_categorical_accuracy: 0.8489\n",
      "Epoch 16/20\n",
      "3755/3755 [==============================] - ETA: 0s - loss: 0.2662 - categorical_accuracy: 0.9077WARNING:tensorflow:Can save best model only with val_accuracy available, skipping.\n",
      "WARNING:tensorflow:Reduce LR on plateau conditioned on metric `val_accuracy` which is not available. Available metrics are: loss,categorical_accuracy,val_loss,val_categorical_accuracy,lr\n",
      "WARNING:tensorflow:Early stopping conditioned on metric `val_accuracy` which is not available. Available metrics are: loss,categorical_accuracy,val_loss,val_categorical_accuracy,lr\n",
      "3755/3755 [==============================] - 1591s 424ms/step - loss: 0.2662 - categorical_accuracy: 0.9077 - val_loss: 0.4560 - val_categorical_accuracy: 0.8609\n",
      "Epoch 17/20\n",
      "3755/3755 [==============================] - ETA: 0s - loss: 0.2433 - categorical_accuracy: 0.9153WARNING:tensorflow:Can save best model only with val_accuracy available, skipping.\n",
      "WARNING:tensorflow:Reduce LR on plateau conditioned on metric `val_accuracy` which is not available. Available metrics are: loss,categorical_accuracy,val_loss,val_categorical_accuracy,lr\n",
      "WARNING:tensorflow:Early stopping conditioned on metric `val_accuracy` which is not available. Available metrics are: loss,categorical_accuracy,val_loss,val_categorical_accuracy,lr\n",
      "3755/3755 [==============================] - 1594s 425ms/step - loss: 0.2433 - categorical_accuracy: 0.9153 - val_loss: 0.4720 - val_categorical_accuracy: 0.8601\n",
      "Epoch 18/20\n",
      "3755/3755 [==============================] - ETA: 0s - loss: 0.2113 - categorical_accuracy: 0.9276WARNING:tensorflow:Can save best model only with val_accuracy available, skipping.\n",
      "WARNING:tensorflow:Reduce LR on plateau conditioned on metric `val_accuracy` which is not available. Available metrics are: loss,categorical_accuracy,val_loss,val_categorical_accuracy,lr\n",
      "WARNING:tensorflow:Early stopping conditioned on metric `val_accuracy` which is not available. Available metrics are: loss,categorical_accuracy,val_loss,val_categorical_accuracy,lr\n",
      "3755/3755 [==============================] - 1589s 423ms/step - loss: 0.2113 - categorical_accuracy: 0.9276 - val_loss: 0.4412 - val_categorical_accuracy: 0.8707\n",
      "Epoch 19/20\n",
      "3755/3755 [==============================] - ETA: 0s - loss: 0.2045 - categorical_accuracy: 0.9305WARNING:tensorflow:Can save best model only with val_accuracy available, skipping.\n",
      "WARNING:tensorflow:Reduce LR on plateau conditioned on metric `val_accuracy` which is not available. Available metrics are: loss,categorical_accuracy,val_loss,val_categorical_accuracy,lr\n",
      "WARNING:tensorflow:Early stopping conditioned on metric `val_accuracy` which is not available. Available metrics are: loss,categorical_accuracy,val_loss,val_categorical_accuracy,lr\n",
      "3755/3755 [==============================] - 1592s 424ms/step - loss: 0.2045 - categorical_accuracy: 0.9305 - val_loss: 0.4317 - val_categorical_accuracy: 0.8795\n",
      "Epoch 20/20\n",
      "3755/3755 [==============================] - ETA: 0s - loss: 0.1776 - categorical_accuracy: 0.9400WARNING:tensorflow:Can save best model only with val_accuracy available, skipping.\n",
      "WARNING:tensorflow:Reduce LR on plateau conditioned on metric `val_accuracy` which is not available. Available metrics are: loss,categorical_accuracy,val_loss,val_categorical_accuracy,lr\n",
      "WARNING:tensorflow:Early stopping conditioned on metric `val_accuracy` which is not available. Available metrics are: loss,categorical_accuracy,val_loss,val_categorical_accuracy,lr\n",
      "3755/3755 [==============================] - 1594s 425ms/step - loss: 0.1776 - categorical_accuracy: 0.9400 - val_loss: 0.4953 - val_categorical_accuracy: 0.8723\n"
     ]
    }
   ],
   "source": [
    "history = model2.fit(train_generator,\n",
    "                        steps_per_epoch= 30041//batch_size,\n",
    "                        epochs=20,\n",
    "                        validation_data=val_generator,\n",
    "                        validation_steps= 3756//batch_size,\n",
    "                        callbacks = callbacks\n",
    "                    )"
   ]
  },
  {
   "cell_type": "markdown",
   "metadata": {},
   "source": [
    "Oops.. probably should have watched an iteration before going to bed, as I messed up the callbacks. It would be nice to have those working and observe their effect, but I do not have another night prior to my review to train the model again. At any rate, the results are satisfactory and I trained for enough iterations to see a plateau in the validation accuracy and stopped before too much overfitting occured."
   ]
  },
  {
   "cell_type": "code",
   "execution_count": 11,
   "metadata": {},
   "outputs": [
    {
     "data": {
      "image/png": "[encoded data removed]",
      "text/plain": [
       "<Figure size 432x288 with 1 Axes>"
      ]
     },
     "metadata": {
      "needs_background": "light"
     },
     "output_type": "display_data"
    },
    {
     "data": {
      "image/png": "[encoded data removed]",
      "text/plain": [
       "<Figure size 432x288 with 1 Axes>"
      ]
     },
     "metadata": {
      "needs_background": "light"
     },
     "output_type": "display_data"
    }
   ],
   "source": [
    "acc = history.history['categorical_accuracy']\n",
    "val_acc = history.history['val_categorical_accuracy']\n",
    "loss = history.history['loss']\n",
    "val_loss = history.history['val_loss']\n",
    "epochs = range(len(acc))\n",
    "plt.plot(epochs, acc, 'bo', label='Training acc')\n",
    "plt.plot(epochs, val_acc, 'b', label='Validation acc')\n",
    "plt.title('Training and validation accuracy')\n",
    "plt.legend()\n",
    "plt.figure()\n",
    "plt.plot(epochs, loss, 'bo', label='Training loss')\n",
    "plt.plot(epochs, val_loss, 'b', label='Validation loss')\n",
    "plt.title('Training and validation loss')\n",
    "plt.legend()\n",
    "plt.show()"
   ]
  },
  {
   "cell_type": "code",
   "execution_count": 13,
   "metadata": {},
   "outputs": [
    {
     "name": "stdout",
     "output_type": "stream",
     "text": [
      "470/470 [==============================] - 65s 139ms/step - loss: 0.5734 - categorical_accuracy: 0.8637\n"
     ]
    }
   ],
   "source": [
    "results = model2.evaluate(test_generator)"
   ]
  },
  {
   "cell_type": "code",
   "execution_count": 14,
   "metadata": {},
   "outputs": [],
   "source": [
    "preds = np.argmax(model2.predict(test_generator), axis = -1)"
   ]
  },
  {
   "cell_type": "code",
   "execution_count": 15,
   "metadata": {},
   "outputs": [
    {
     "name": "stdout",
     "output_type": "stream",
     "text": [
      "[[489   0   0   0   0   0   1   0   0   0]\n",
      " [  4 455  12   0   1   0   2   0   3   3]\n",
      " [  0  38 387   3  24   0   0   2   3   3]\n",
      " [  0   1   0 445   4   5   3   7   5   4]\n",
      " [  0   4   3   2 450   6   0   4   0   2]\n",
      " [  0   0   0   7  35 384   2   9   0   0]\n",
      " [  8   0   0  11   0   5 162   0   6   6]\n",
      " [  0   0   0  19   2  12   0 182   1   0]\n",
      " [ 33  24   4  41  14   1  11  11 211  60]\n",
      " [  5   1   3   6   8   1   5   0  12  79]]\n"
     ]
    }
   ],
   "source": [
    "print(confusion_matrix(test_generator.classes,preds))"
   ]
  },
  {
   "cell_type": "code",
   "execution_count": 16,
   "metadata": {},
   "outputs": [
    {
     "name": "stdout",
     "output_type": "stream",
     "text": [
      "              precision    recall  f1-score   support\n",
      "\n",
      "           F       0.91      1.00      0.95       490\n",
      "           G       0.87      0.95      0.91       480\n",
      "           H       0.95      0.84      0.89       460\n",
      "           I       0.83      0.94      0.88       474\n",
      "           J       0.84      0.96      0.89       471\n",
      "           K       0.93      0.88      0.90       437\n",
      "           L       0.87      0.82      0.84       198\n",
      "           M       0.85      0.84      0.84       216\n",
      "           N       0.88      0.51      0.65       410\n",
      "           O       0.50      0.66      0.57       120\n",
      "\n",
      "    accuracy                           0.86      3756\n",
      "   macro avg       0.84      0.84      0.83      3756\n",
      "weighted avg       0.87      0.86      0.86      3756\n",
      "\n"
     ]
    }
   ],
   "source": [
    "target_names = list(test_generator.class_indices.keys())\n",
    "print(classification_report(test_generator.classes,preds,target_names = target_names))"
   ]
  },
  {
   "cell_type": "markdown",
   "metadata": {},
   "source": [
    "It is interesting to note that in the case of both models, the model struggled significantly with the final two categories; N, Atmospheric Front, and O, Oceanic Front. According to the paper presenting this dataset of labeled images, 'Periodic signatures of ocean waves can coexist with [both] Ocean Front [and] Atmospheric Front.\" Additionally, we can note from the confusion matrix that both were frequently misclassified in all the other categories, suggesting that these two phenomena are challenging to distinguish and may often have other phenomena or patterns similar to them within their labeled images. Finally, there is a noted dataset imbalance, where Ocean Fronts are especially underrepresented. In the future, data augmentation could be attempted to shore up the detriment to accuracy resulting from misidentification of this category."
   ]
  },
  {
   "cell_type": "markdown",
   "metadata": {},
   "source": [
    "# Prepping some visuals for presentation"
   ]
  },
  {
   "cell_type": "code",
   "execution_count": 6,
   "metadata": {},
   "outputs": [],
   "source": [
    "model = models.load_model('.\\SavedModels\\iterCNN')"
   ]
  },
  {
   "cell_type": "code",
   "execution_count": 7,
   "metadata": {},
   "outputs": [],
   "source": [
    "preds = np.argmax(model.predict(test_generator), axis = -1)"
   ]
  },
  {
   "cell_type": "code",
   "execution_count": 10,
   "metadata": {},
   "outputs": [],
   "source": [
    "target_names = list(test_generator.class_indices.keys())\n",
    "report = classification_report(test_generator.classes,preds,target_names = target_names,output_dict = True)"
   ]
  },
  {
   "cell_type": "code",
   "execution_count": 30,
   "metadata": {},
   "outputs": [],
   "source": [
    "class_df = pd.DataFrame(report).transpose()\n",
    "class_df = class_df.iloc[:10,:]\n",
    "class_df = class_df.reset_index()\n",
    "category_dict = {\n",
    "    'F' : 'Pure Ocean Waves',\n",
    "    'G' : 'Wind Streaks',\n",
    "    'H' : 'Micro Convective Cells',\n",
    "    'I' : 'Rain Cells',\n",
    "    'J' : 'Biological Slicks',\n",
    "    'K' : 'Sea Ice',\n",
    "    'L' : 'Iceberg',\n",
    "    'M' : 'Low Wind Area',\n",
    "    'N' : 'Atmospheric Front',\n",
    "    'O' : 'Oceanic Front'\n",
    "}\n",
    "class_df = class_df.rename(columns = {'index':'categories'})\n",
    "class_df['categories'] = class_df.categories.apply(lambda x: x.replace(x,category_dict[x]))\n",
    "class_df['f1-score'] = [0.95, 0.91, 0.89, 0.88, 0.89, 0.90, 0.84, 0.84, 0.65, 0.57]"
   ]
  },
  {
   "cell_type": "code",
   "execution_count": 31,
   "metadata": {},
   "outputs": [
    {
     "data": {
      "text/html": [
       "<div>\n",
       "<style scoped>\n",
       "    .dataframe tbody tr th:only-of-type {\n",
       "        vertical-align: middle;\n",
       "    }\n",
       "\n",
       "    .dataframe tbody tr th {\n",
       "        vertical-align: top;\n",
       "    }\n",
       "\n",
       "    .dataframe thead th {\n",
       "        text-align: right;\n",
       "    }\n",
       "</style>\n",
       "<table border=\"1\" class=\"dataframe\">\n",
       "  <thead>\n",
       "    <tr style=\"text-align: right;\">\n",
       "      <th></th>\n",
       "      <th>categories</th>\n",
       "      <th>precision</th>\n",
       "      <th>recall</th>\n",
       "      <th>f1-score</th>\n",
       "      <th>support</th>\n",
       "    </tr>\n",
       "  </thead>\n",
       "  <tbody>\n",
       "    <tr>\n",
       "      <th>0</th>\n",
       "      <td>Pure Ocean Waves</td>\n",
       "      <td>0.929254</td>\n",
       "      <td>0.991837</td>\n",
       "      <td>0.95</td>\n",
       "      <td>490.0</td>\n",
       "    </tr>\n",
       "    <tr>\n",
       "      <th>1</th>\n",
       "      <td>Wind Streaks</td>\n",
       "      <td>0.962366</td>\n",
       "      <td>0.745833</td>\n",
       "      <td>0.91</td>\n",
       "      <td>480.0</td>\n",
       "    </tr>\n",
       "    <tr>\n",
       "      <th>2</th>\n",
       "      <td>Micro Convective Cells</td>\n",
       "      <td>0.853414</td>\n",
       "      <td>0.923913</td>\n",
       "      <td>0.89</td>\n",
       "      <td>460.0</td>\n",
       "    </tr>\n",
       "    <tr>\n",
       "      <th>3</th>\n",
       "      <td>Rain Cells</td>\n",
       "      <td>0.915254</td>\n",
       "      <td>0.797468</td>\n",
       "      <td>0.88</td>\n",
       "      <td>474.0</td>\n",
       "    </tr>\n",
       "    <tr>\n",
       "      <th>4</th>\n",
       "      <td>Biological Slicks</td>\n",
       "      <td>0.930958</td>\n",
       "      <td>0.887473</td>\n",
       "      <td>0.89</td>\n",
       "      <td>471.0</td>\n",
       "    </tr>\n",
       "    <tr>\n",
       "      <th>5</th>\n",
       "      <td>Sea Ice</td>\n",
       "      <td>0.782779</td>\n",
       "      <td>0.915332</td>\n",
       "      <td>0.90</td>\n",
       "      <td>437.0</td>\n",
       "    </tr>\n",
       "    <tr>\n",
       "      <th>6</th>\n",
       "      <td>Iceberg</td>\n",
       "      <td>0.810945</td>\n",
       "      <td>0.823232</td>\n",
       "      <td>0.84</td>\n",
       "      <td>198.0</td>\n",
       "    </tr>\n",
       "    <tr>\n",
       "      <th>7</th>\n",
       "      <td>Low Wind Area</td>\n",
       "      <td>0.821053</td>\n",
       "      <td>0.722222</td>\n",
       "      <td>0.84</td>\n",
       "      <td>216.0</td>\n",
       "    </tr>\n",
       "    <tr>\n",
       "      <th>8</th>\n",
       "      <td>Atmospheric Front</td>\n",
       "      <td>0.658228</td>\n",
       "      <td>0.760976</td>\n",
       "      <td>0.65</td>\n",
       "      <td>410.0</td>\n",
       "    </tr>\n",
       "    <tr>\n",
       "      <th>9</th>\n",
       "      <td>Oceanic Front</td>\n",
       "      <td>0.520000</td>\n",
       "      <td>0.541667</td>\n",
       "      <td>0.57</td>\n",
       "      <td>120.0</td>\n",
       "    </tr>\n",
       "  </tbody>\n",
       "</table>\n",
       "</div>"
      ],
      "text/plain": [
       "               categories  precision    recall  f1-score  support\n",
       "0        Pure Ocean Waves   0.929254  0.991837      0.95    490.0\n",
       "1            Wind Streaks   0.962366  0.745833      0.91    480.0\n",
       "2  Micro Convective Cells   0.853414  0.923913      0.89    460.0\n",
       "3              Rain Cells   0.915254  0.797468      0.88    474.0\n",
       "4       Biological Slicks   0.930958  0.887473      0.89    471.0\n",
       "5                 Sea Ice   0.782779  0.915332      0.90    437.0\n",
       "6                 Iceberg   0.810945  0.823232      0.84    198.0\n",
       "7           Low Wind Area   0.821053  0.722222      0.84    216.0\n",
       "8       Atmospheric Front   0.658228  0.760976      0.65    410.0\n",
       "9           Oceanic Front   0.520000  0.541667      0.57    120.0"
      ]
     },
     "execution_count": 31,
     "metadata": {},
     "output_type": "execute_result"
    }
   ],
   "source": [
    "class_df"
   ]
  },
  {
   "cell_type": "code",
   "execution_count": 32,
   "metadata": {},
   "outputs": [
    {
     "data": {
      "text/plain": [
       "<AxesSubplot:xlabel='f1-score', ylabel='categories'>"
      ]
     },
     "execution_count": 32,
     "metadata": {},
     "output_type": "execute_result"
    },
    {
     "data": {
      "image/png": "[encoded data removed]",
      "text/plain": [
       "<Figure size 432x288 with 1 Axes>"
      ]
     },
     "metadata": {
      "needs_background": "light"
     },
     "output_type": "display_data"
    }
   ],
   "source": [
    "sns.barplot(data = class_df,x ='f1-score',y='categories')"
   ]
  },
  {
   "cell_type": "code",
   "execution_count": 60,
   "metadata": {},
   "outputs": [
    {
     "data": {
      "text/plain": [
       "(10, 10)"
      ]
     },
     "execution_count": 60,
     "metadata": {},
     "output_type": "execute_result"
    }
   ],
   "source": [
    "conf_matrix = np.array([[489 ,  0 ,  0 ,  0 ,  0  , 0 ,  1  , 0 ,  0  , 0],\n",
    " [  4 ,455 , 12  , 0  , 1  , 0  , 2  , 0  , 3  , 3],\n",
    " [  0  ,38, 387,   3 , 24 ,  0 ,  0  , 2  , 3  , 3],\n",
    " [  0  , 1 ,  0 ,445 ,  4  , 5 ,  3  , 7 ,  5  , 4],\n",
    " [  0  , 4 ,  3 ,  2 ,450  , 6  , 0  , 4  , 0  , 2],\n",
    " [  0  , 0 ,  0 ,  7 , 35 ,384  , 2  , 9  , 0  , 0],\n",
    " [  8  , 0 ,  0 , 11 ,  0  , 5 ,162  , 0  , 6  , 6],\n",
    " [  0  , 0 ,  0 , 19 ,  2  ,12 ,  0 ,182  , 1 ,  0],\n",
    " [ 33  ,24 ,  4 , 41 , 14  , 1 , 11 , 11 ,211 , 60],\n",
    " [  5  , 1 ,  3 ,  6 ,  8 ,  1  , 5 ,  0 , 12 , 79]])\n",
    "conf_matrix.shape"
   ]
  },
  {
   "cell_type": "code",
   "execution_count": 67,
   "metadata": {},
   "outputs": [
    {
     "data": {
      "text/plain": [
       "array([[1.        , 0.        , 0.        , 0.        , 0.        ,\n",
       "        0.        , 0.00204499, 0.        , 0.        , 0.        ],\n",
       "       [0.00879121, 1.        , 0.02637363, 0.        , 0.0021978 ,\n",
       "        0.        , 0.0043956 , 0.        , 0.00659341, 0.00659341],\n",
       "       [0.        , 0.09819121, 1.        , 0.00775194, 0.0620155 ,\n",
       "        0.        , 0.        , 0.00516796, 0.00775194, 0.00775194],\n",
       "       [0.        , 0.00224719, 0.        , 1.        , 0.00898876,\n",
       "        0.01123596, 0.00674157, 0.01573034, 0.01123596, 0.00898876],\n",
       "       [0.        , 0.00888889, 0.00666667, 0.00444444, 1.        ,\n",
       "        0.01333333, 0.        , 0.00888889, 0.        , 0.00444444],\n",
       "       [0.        , 0.        , 0.        , 0.01822917, 0.09114583,\n",
       "        1.        , 0.00520833, 0.0234375 , 0.        , 0.        ],\n",
       "       [0.04938272, 0.        , 0.        , 0.06790123, 0.        ,\n",
       "        0.0308642 , 1.        , 0.        , 0.03703704, 0.03703704],\n",
       "       [0.        , 0.        , 0.        , 0.1043956 , 0.01098901,\n",
       "        0.06593407, 0.        , 1.        , 0.00549451, 0.        ],\n",
       "       [0.15238095, 0.10952381, 0.01428571, 0.19047619, 0.06190476,\n",
       "        0.        , 0.04761905, 0.04761905, 1.        , 0.28095238],\n",
       "       [0.06329114, 0.01265823, 0.03797468, 0.07594937, 0.10126582,\n",
       "        0.01265823, 0.06329114, 0.        , 0.15189873, 1.        ]])"
      ]
     },
     "execution_count": 67,
     "metadata": {},
     "output_type": "execute_result"
    }
   ],
   "source": [
    "scaled_conf = preprocessing.minmax_scale(conf_matrix.T).T\n",
    "scaled_conf"
   ]
  },
  {
   "cell_type": "code",
   "execution_count": 72,
   "metadata": {},
   "outputs": [
    {
     "data": {
      "text/plain": [
       "<AxesSubplot:>"
      ]
     },
     "execution_count": 72,
     "metadata": {},
     "output_type": "execute_result"
    },
    {
     "data": {
      "image/png": "[encoded data removed]",
      "text/plain": [
       "<Figure size 432x288 with 2 Axes>"
      ]
     },
     "metadata": {
      "needs_background": "light"
     },
     "output_type": "display_data"
    }
   ],
   "source": [
    "ticklabels = class_df.categories \n",
    "sns.heatmap(scaled_conf,vmin = 0,vmax = 0.3, xticklabels = ticklabels, yticklabels = ticklabels)"
   ]
  },
  {
   "cell_type": "markdown",
   "metadata": {},
   "source": [
    "# Appendix"
   ]
  },
  {
   "cell_type": "markdown",
   "metadata": {},
   "source": [
    "Here is a function and bit of code I was using to test what I will call 'seeding'. I noticed while trying to train the MLP baseline that the success of its training seemed to be largely dependent on the initialized weights, getting radically different results each time a new model was initialized. When I did get new results, however, it became obvious within the first epoch. Thus, when I was not getting good results with a CNN, I was trying reinitialization and training for one epoch to try and search for a 'seed' that would yield a working network. I ended up realizing there was an issue with the images as they were preprocessed, so I never needed to come back to this, but I have kept the code here just in case."
   ]
  },
  {
   "cell_type": "code",
   "execution_count": 5,
   "metadata": {},
   "outputs": [],
   "source": [
    "def instantiate_model():\n",
    "    model = models.Sequential()\n",
    "    model.add(layers.Conv2D(64, (3, 3), activation='relu',\n",
    "                            input_shape=(540, 490, 3)))\n",
    "    model.add(layers.Conv2D(64, (3, 3), activation='relu'))\n",
    "    model.add(layers.MaxPooling2D((2, 2),padding = 'same'))\n",
    "    model.add(layers.Conv2D(128, (3, 3), activation='relu'))\n",
    "    model.add(layers.Conv2D(128, (3, 3), activation='relu'))\n",
    "    model.add(layers.MaxPooling2D((2, 2),padding = 'same'))\n",
    "    model.add(layers.Conv2D(256, (3, 3), activation='relu'))\n",
    "    model.add(layers.Conv2D(256, (3, 3), activation='relu'))\n",
    "    model.add(layers.Conv2D(256, (3, 3), activation='relu'))\n",
    "    model.add(layers.Conv2D(256, (3, 3), activation='relu'))\n",
    "    model.add(layers.MaxPooling2D((2, 2),padding = 'same'))\n",
    "    model.add(layers.Conv2D(512, (3, 3), activation='relu'))\n",
    "    model.add(layers.Conv2D(512, (3, 3), activation='relu'))\n",
    "    model.add(layers.Conv2D(512, (3, 3), activation='relu'))\n",
    "    model.add(layers.Conv2D(512, (3, 3), activation='relu'))\n",
    "    model.add(layers.MaxPooling2D((2, 2),padding = 'same'))\n",
    "    model.add(layers.Conv2D(512, (3, 3), activation='relu'))\n",
    "    model.add(layers.Conv2D(512, (3, 3), activation='relu'))\n",
    "    model.add(layers.Conv2D(512, (3, 3), activation='relu'))\n",
    "    model.add(layers.Conv2D(512, (3, 3), activation='relu'))\n",
    "    model.add(layers.MaxPooling2D((2, 2),padding = 'same'))\n",
    "    model.add(layers.Flatten())\n",
    "    model.add(layers.Dense(1000, activation='relu'))\n",
    "    model.add(layers.Dense(200, activation='relu'))\n",
    "    model.add(layers.Dense(10, activation='softmax'))\n",
    "    return model"
   ]
  },
  {
   "cell_type": "code",
   "execution_count": 6,
   "metadata": {},
   "outputs": [
    {
     "name": "stdout",
     "output_type": "stream",
     "text": [
      "WARNING:tensorflow:Callbacks method `on_train_batch_end` is slow compared to the batch time (batch time: 0.0828s vs `on_train_batch_end` time: 0.1825s). Check your callbacks.\n",
      "6008/6008 - 1742s - loss: 2.2701 - acc: 0.1257 - val_loss: 2.2293 - val_acc: 0.1305\n",
      "New best accuracy: 0.12571580708026886\n",
      "WARNING:tensorflow:From C:\\Users\\mattl\\anaconda3\\envs\\learn-env\\lib\\site-packages\\tensorflow\\python\\training\\tracking\\tracking.py:111: Model.state_updates (from tensorflow.python.keras.engine.training) is deprecated and will be removed in a future version.\n",
      "Instructions for updating:\n",
      "This property should not be used in TensorFlow 2.0, as updates are applied automatically.\n",
      "WARNING:tensorflow:From C:\\Users\\mattl\\anaconda3\\envs\\learn-env\\lib\\site-packages\\tensorflow\\python\\training\\tracking\\tracking.py:111: Layer.updates (from tensorflow.python.keras.engine.base_layer) is deprecated and will be removed in a future version.\n",
      "Instructions for updating:\n",
      "This property should not be used in TensorFlow 2.0, as updates are applied automatically.\n",
      "INFO:tensorflow:Assets written to: .\\SavedModels\\iterCNN\\assets\n",
      "WARNING:tensorflow:Callbacks method `on_train_batch_end` is slow compared to the batch time (batch time: 0.0828s vs `on_train_batch_end` time: 0.1856s). Check your callbacks.\n",
      "6008/6008 - 1753s - loss: 2.2670 - acc: 0.1302 - val_loss: 2.2303 - val_acc: 0.1278\n",
      "New best accuracy: 0.13017712533473969\n",
      "INFO:tensorflow:Assets written to: .\\SavedModels\\iterCNN\\assets\n",
      "WARNING:tensorflow:Callbacks method `on_train_batch_end` is slow compared to the batch time (batch time: 0.0857s vs `on_train_batch_end` time: 0.1920s). Check your callbacks.\n",
      "6008/6008 - 1735s - loss: 2.2520 - acc: 0.1277 - val_loss: 2.2302 - val_acc: 0.1278\n",
      "WARNING:tensorflow:Callbacks method `on_train_batch_end` is slow compared to the batch time (batch time: 0.0868s vs `on_train_batch_end` time: 0.1835s). Check your callbacks.\n",
      "6008/6008 - 1733s - loss: 2.2573 - acc: 0.1234 - val_loss: 2.2306 - val_acc: 0.1305\n",
      "WARNING:tensorflow:Callbacks method `on_train_batch_end` is slow compared to the batch time (batch time: 0.0838s vs `on_train_batch_end` time: 0.1835s). Check your callbacks.\n",
      "6008/6008 - 1733s - loss: 2.2527 - acc: 0.1254 - val_loss: 2.2319 - val_acc: 0.1254\n",
      "WARNING:tensorflow:Callbacks method `on_train_batch_end` is slow compared to the batch time (batch time: 0.0838s vs `on_train_batch_end` time: 0.1855s). Check your callbacks.\n",
      "6008/6008 - 1737s - loss: 2.2578 - acc: 0.1273 - val_loss: 2.2318 - val_acc: 0.1278\n",
      "WARNING:tensorflow:Callbacks method `on_train_batch_end` is slow compared to the batch time (batch time: 0.0848s vs `on_train_batch_end` time: 0.1925s). Check your callbacks.\n",
      "6008/6008 - 1735s - loss: 2.2591 - acc: 0.1253 - val_loss: 2.2309 - val_acc: 0.1278\n",
      "WARNING:tensorflow:Callbacks method `on_train_batch_end` is slow compared to the batch time (batch time: 0.0848s vs `on_train_batch_end` time: 0.1841s). Check your callbacks.\n",
      "6008/6008 - 1737s - loss: 2.2638 - acc: 0.1261 - val_loss: 2.2305 - val_acc: 0.1260\n",
      "WARNING:tensorflow:Callbacks method `on_train_batch_end` is slow compared to the batch time (batch time: 0.0838s vs `on_train_batch_end` time: 0.1855s). Check your callbacks.\n",
      "6008/6008 - 1731s - loss: 2.2577 - acc: 0.1245 - val_loss: 2.2322 - val_acc: 0.1262\n",
      "WARNING:tensorflow:Callbacks method `on_train_batch_end` is slow compared to the batch time (batch time: 0.0848s vs `on_train_batch_end` time: 0.1915s). Check your callbacks.\n",
      "6008/6008 - 1732s - loss: 2.2588 - acc: 0.1236 - val_loss: 2.2301 - val_acc: 0.1278\n",
      "WARNING:tensorflow:Callbacks method `on_train_batch_end` is slow compared to the batch time (batch time: 0.0857s vs `on_train_batch_end` time: 0.1825s). Check your callbacks.\n",
      "6008/6008 - 1734s - loss: 2.2551 - acc: 0.1248 - val_loss: 2.2345 - val_acc: 0.1262\n",
      "WARNING:tensorflow:Callbacks method `on_train_batch_end` is slow compared to the batch time (batch time: 0.0987s vs `on_train_batch_end` time: 0.1845s). Check your callbacks.\n",
      "6008/6008 - 1731s - loss: 2.2516 - acc: 0.1232 - val_loss: 2.2322 - val_acc: 0.1262\n",
      "WARNING:tensorflow:Callbacks method `on_train_batch_end` is slow compared to the batch time (batch time: 0.0857s vs `on_train_batch_end` time: 0.1825s). Check your callbacks.\n",
      "6008/6008 - 1741s - loss: 2.3049 - acc: 0.1242 - val_loss: 2.2304 - val_acc: 0.1276\n",
      "6008/6008 - 1730s - loss: 2.2640 - acc: 0.1241 - val_loss: 2.2324 - val_acc: 0.1254\n",
      "6008/6008 - 1739s - loss: 2.2580 - acc: 0.1262 - val_loss: 2.2301 - val_acc: 0.1262\n",
      "WARNING:tensorflow:Callbacks method `on_train_batch_end` is slow compared to the batch time (batch time: 0.0858s vs `on_train_batch_end` time: 0.1845s). Check your callbacks.\n",
      "6008/6008 - 1738s - loss: 2.2579 - acc: 0.1271 - val_loss: 2.2365 - val_acc: 0.1278\n",
      "WARNING:tensorflow:Callbacks method `on_train_batch_end` is slow compared to the batch time (batch time: 0.0848s vs `on_train_batch_end` time: 0.1845s). Check your callbacks.\n",
      "6008/6008 - 1737s - loss: 2.3018 - acc: 0.1274 - val_loss: 2.2322 - val_acc: 0.1254\n",
      "WARNING:tensorflow:Callbacks method `on_train_batch_end` is slow compared to the batch time (batch time: 0.0853s vs `on_train_batch_end` time: 0.1845s). Check your callbacks.\n",
      "6008/6008 - 1731s - loss: 2.2673 - acc: 0.1256 - val_loss: 2.2315 - val_acc: 0.1305\n",
      "WARNING:tensorflow:Callbacks method `on_train_batch_end` is slow compared to the batch time (batch time: 0.0838s vs `on_train_batch_end` time: 0.1845s). Check your callbacks.\n",
      "6008/6008 - 1737s - loss: 2.2550 - acc: 0.1276 - val_loss: 2.2334 - val_acc: 0.1302\n",
      "WARNING:tensorflow:Callbacks method `on_train_batch_end` is slow compared to the batch time (batch time: 0.0848s vs `on_train_batch_end` time: 0.1835s). Check your callbacks.\n",
      "6008/6008 - 1740s - loss: 2.2531 - acc: 0.1227 - val_loss: 2.2309 - val_acc: 0.1262\n",
      "WARNING:tensorflow:Callbacks method `on_train_batch_end` is slow compared to the batch time (batch time: 0.0837s vs `on_train_batch_end` time: 0.1845s). Check your callbacks.\n",
      "6008/6008 - 1732s - loss: 2.2519 - acc: 0.1266 - val_loss: 2.2292 - val_acc: 0.1305\n",
      "WARNING:tensorflow:Callbacks method `on_train_batch_end` is slow compared to the batch time (batch time: 0.0848s vs `on_train_batch_end` time: 0.1850s). Check your callbacks.\n",
      "6008/6008 - 1739s - loss: 2.2555 - acc: 0.1262 - val_loss: 2.2323 - val_acc: 0.1254\n",
      "WARNING:tensorflow:Callbacks method `on_train_batch_end` is slow compared to the batch time (batch time: 0.0838s vs `on_train_batch_end` time: 0.1845s). Check your callbacks.\n"
     ]
    },
    {
     "ename": "KeyboardInterrupt",
     "evalue": "",
     "output_type": "error",
     "traceback": [
      "\u001b[1;31m---------------------------------------------------------------------------\u001b[0m",
      "\u001b[1;31mKeyboardInterrupt\u001b[0m                         Traceback (most recent call last)",
      "\u001b[1;32m<ipython-input-6-947484640661>\u001b[0m in \u001b[0;36m<module>\u001b[1;34m\u001b[0m\n\u001b[0;32m      5\u001b[0m               \u001b[0moptimizer\u001b[0m\u001b[1;33m=\u001b[0m\u001b[0moptimizers\u001b[0m\u001b[1;33m.\u001b[0m\u001b[0mRMSprop\u001b[0m\u001b[1;33m(\u001b[0m\u001b[0mlr\u001b[0m\u001b[1;33m=\u001b[0m\u001b[1;36m.0001\u001b[0m\u001b[1;33m)\u001b[0m\u001b[1;33m,\u001b[0m\u001b[1;33m\u001b[0m\u001b[1;33m\u001b[0m\u001b[0m\n\u001b[0;32m      6\u001b[0m               metrics=['acc'])\n\u001b[1;32m----> 7\u001b[1;33m     history = model.fit(train_generator,\n\u001b[0m\u001b[0;32m      8\u001b[0m                         \u001b[0msteps_per_epoch\u001b[0m\u001b[1;33m=\u001b[0m \u001b[1;36m30041\u001b[0m\u001b[1;33m//\u001b[0m\u001b[0mbatch_size\u001b[0m\u001b[1;33m,\u001b[0m\u001b[1;33m\u001b[0m\u001b[1;33m\u001b[0m\u001b[0m\n\u001b[0;32m      9\u001b[0m                         \u001b[0mepochs\u001b[0m\u001b[1;33m=\u001b[0m\u001b[1;36m1\u001b[0m\u001b[1;33m,\u001b[0m\u001b[1;33m\u001b[0m\u001b[1;33m\u001b[0m\u001b[0m\n",
      "\u001b[1;32m~\\anaconda3\\envs\\learn-env\\lib\\site-packages\\tensorflow\\python\\keras\\engine\\training.py\u001b[0m in \u001b[0;36m_method_wrapper\u001b[1;34m(self, *args, **kwargs)\u001b[0m\n\u001b[0;32m    106\u001b[0m   \u001b[1;32mdef\u001b[0m \u001b[0m_method_wrapper\u001b[0m\u001b[1;33m(\u001b[0m\u001b[0mself\u001b[0m\u001b[1;33m,\u001b[0m \u001b[1;33m*\u001b[0m\u001b[0margs\u001b[0m\u001b[1;33m,\u001b[0m \u001b[1;33m**\u001b[0m\u001b[0mkwargs\u001b[0m\u001b[1;33m)\u001b[0m\u001b[1;33m:\u001b[0m\u001b[1;33m\u001b[0m\u001b[1;33m\u001b[0m\u001b[0m\n\u001b[0;32m    107\u001b[0m     \u001b[1;32mif\u001b[0m \u001b[1;32mnot\u001b[0m \u001b[0mself\u001b[0m\u001b[1;33m.\u001b[0m\u001b[0m_in_multi_worker_mode\u001b[0m\u001b[1;33m(\u001b[0m\u001b[1;33m)\u001b[0m\u001b[1;33m:\u001b[0m  \u001b[1;31m# pylint: disable=protected-access\u001b[0m\u001b[1;33m\u001b[0m\u001b[1;33m\u001b[0m\u001b[0m\n\u001b[1;32m--> 108\u001b[1;33m       \u001b[1;32mreturn\u001b[0m \u001b[0mmethod\u001b[0m\u001b[1;33m(\u001b[0m\u001b[0mself\u001b[0m\u001b[1;33m,\u001b[0m \u001b[1;33m*\u001b[0m\u001b[0margs\u001b[0m\u001b[1;33m,\u001b[0m \u001b[1;33m**\u001b[0m\u001b[0mkwargs\u001b[0m\u001b[1;33m)\u001b[0m\u001b[1;33m\u001b[0m\u001b[1;33m\u001b[0m\u001b[0m\n\u001b[0m\u001b[0;32m    109\u001b[0m \u001b[1;33m\u001b[0m\u001b[0m\n\u001b[0;32m    110\u001b[0m     \u001b[1;31m# Running inside `run_distribute_coordinator` already.\u001b[0m\u001b[1;33m\u001b[0m\u001b[1;33m\u001b[0m\u001b[1;33m\u001b[0m\u001b[0m\n",
      "\u001b[1;32m~\\anaconda3\\envs\\learn-env\\lib\\site-packages\\tensorflow\\python\\keras\\engine\\training.py\u001b[0m in \u001b[0;36mfit\u001b[1;34m(self, x, y, batch_size, epochs, verbose, callbacks, validation_split, validation_data, shuffle, class_weight, sample_weight, initial_epoch, steps_per_epoch, validation_steps, validation_batch_size, validation_freq, max_queue_size, workers, use_multiprocessing)\u001b[0m\n\u001b[0;32m   1101\u001b[0m               \u001b[0mlogs\u001b[0m \u001b[1;33m=\u001b[0m \u001b[0mtmp_logs\u001b[0m  \u001b[1;31m# No error, now safe to assign to logs.\u001b[0m\u001b[1;33m\u001b[0m\u001b[1;33m\u001b[0m\u001b[0m\n\u001b[0;32m   1102\u001b[0m               \u001b[0mend_step\u001b[0m \u001b[1;33m=\u001b[0m \u001b[0mstep\u001b[0m \u001b[1;33m+\u001b[0m \u001b[0mdata_handler\u001b[0m\u001b[1;33m.\u001b[0m\u001b[0mstep_increment\u001b[0m\u001b[1;33m\u001b[0m\u001b[1;33m\u001b[0m\u001b[0m\n\u001b[1;32m-> 1103\u001b[1;33m               \u001b[0mcallbacks\u001b[0m\u001b[1;33m.\u001b[0m\u001b[0mon_train_batch_end\u001b[0m\u001b[1;33m(\u001b[0m\u001b[0mend_step\u001b[0m\u001b[1;33m,\u001b[0m \u001b[0mlogs\u001b[0m\u001b[1;33m)\u001b[0m\u001b[1;33m\u001b[0m\u001b[1;33m\u001b[0m\u001b[0m\n\u001b[0m\u001b[0;32m   1104\u001b[0m         \u001b[0mepoch_logs\u001b[0m \u001b[1;33m=\u001b[0m \u001b[0mcopy\u001b[0m\u001b[1;33m.\u001b[0m\u001b[0mcopy\u001b[0m\u001b[1;33m(\u001b[0m\u001b[0mlogs\u001b[0m\u001b[1;33m)\u001b[0m\u001b[1;33m\u001b[0m\u001b[1;33m\u001b[0m\u001b[0m\n\u001b[0;32m   1105\u001b[0m \u001b[1;33m\u001b[0m\u001b[0m\n",
      "\u001b[1;32m~\\anaconda3\\envs\\learn-env\\lib\\site-packages\\tensorflow\\python\\keras\\callbacks.py\u001b[0m in \u001b[0;36mon_train_batch_end\u001b[1;34m(self, batch, logs)\u001b[0m\n\u001b[0;32m    438\u001b[0m     \"\"\"\n\u001b[0;32m    439\u001b[0m     \u001b[1;32mif\u001b[0m \u001b[0mself\u001b[0m\u001b[1;33m.\u001b[0m\u001b[0m_should_call_train_batch_hooks\u001b[0m\u001b[1;33m:\u001b[0m\u001b[1;33m\u001b[0m\u001b[1;33m\u001b[0m\u001b[0m\n\u001b[1;32m--> 440\u001b[1;33m       \u001b[0mself\u001b[0m\u001b[1;33m.\u001b[0m\u001b[0m_call_batch_hook\u001b[0m\u001b[1;33m(\u001b[0m\u001b[0mModeKeys\u001b[0m\u001b[1;33m.\u001b[0m\u001b[0mTRAIN\u001b[0m\u001b[1;33m,\u001b[0m \u001b[1;34m'end'\u001b[0m\u001b[1;33m,\u001b[0m \u001b[0mbatch\u001b[0m\u001b[1;33m,\u001b[0m \u001b[0mlogs\u001b[0m\u001b[1;33m=\u001b[0m\u001b[0mlogs\u001b[0m\u001b[1;33m)\u001b[0m\u001b[1;33m\u001b[0m\u001b[1;33m\u001b[0m\u001b[0m\n\u001b[0m\u001b[0;32m    441\u001b[0m \u001b[1;33m\u001b[0m\u001b[0m\n\u001b[0;32m    442\u001b[0m   \u001b[1;32mdef\u001b[0m \u001b[0mon_test_batch_begin\u001b[0m\u001b[1;33m(\u001b[0m\u001b[0mself\u001b[0m\u001b[1;33m,\u001b[0m \u001b[0mbatch\u001b[0m\u001b[1;33m,\u001b[0m \u001b[0mlogs\u001b[0m\u001b[1;33m=\u001b[0m\u001b[1;32mNone\u001b[0m\u001b[1;33m)\u001b[0m\u001b[1;33m:\u001b[0m\u001b[1;33m\u001b[0m\u001b[1;33m\u001b[0m\u001b[0m\n",
      "\u001b[1;32m~\\anaconda3\\envs\\learn-env\\lib\\site-packages\\tensorflow\\python\\keras\\callbacks.py\u001b[0m in \u001b[0;36m_call_batch_hook\u001b[1;34m(self, mode, hook, batch, logs)\u001b[0m\n\u001b[0;32m    287\u001b[0m       \u001b[0mself\u001b[0m\u001b[1;33m.\u001b[0m\u001b[0m_call_batch_begin_hook\u001b[0m\u001b[1;33m(\u001b[0m\u001b[0mmode\u001b[0m\u001b[1;33m,\u001b[0m \u001b[0mbatch\u001b[0m\u001b[1;33m,\u001b[0m \u001b[0mlogs\u001b[0m\u001b[1;33m)\u001b[0m\u001b[1;33m\u001b[0m\u001b[1;33m\u001b[0m\u001b[0m\n\u001b[0;32m    288\u001b[0m     \u001b[1;32melif\u001b[0m \u001b[0mhook\u001b[0m \u001b[1;33m==\u001b[0m \u001b[1;34m'end'\u001b[0m\u001b[1;33m:\u001b[0m\u001b[1;33m\u001b[0m\u001b[1;33m\u001b[0m\u001b[0m\n\u001b[1;32m--> 289\u001b[1;33m       \u001b[0mself\u001b[0m\u001b[1;33m.\u001b[0m\u001b[0m_call_batch_end_hook\u001b[0m\u001b[1;33m(\u001b[0m\u001b[0mmode\u001b[0m\u001b[1;33m,\u001b[0m \u001b[0mbatch\u001b[0m\u001b[1;33m,\u001b[0m \u001b[0mlogs\u001b[0m\u001b[1;33m)\u001b[0m\u001b[1;33m\u001b[0m\u001b[1;33m\u001b[0m\u001b[0m\n\u001b[0m\u001b[0;32m    290\u001b[0m     \u001b[1;32melse\u001b[0m\u001b[1;33m:\u001b[0m\u001b[1;33m\u001b[0m\u001b[1;33m\u001b[0m\u001b[0m\n\u001b[0;32m    291\u001b[0m       \u001b[1;32mraise\u001b[0m \u001b[0mValueError\u001b[0m\u001b[1;33m(\u001b[0m\u001b[1;34m'Unrecognized hook: {}'\u001b[0m\u001b[1;33m.\u001b[0m\u001b[0mformat\u001b[0m\u001b[1;33m(\u001b[0m\u001b[0mhook\u001b[0m\u001b[1;33m)\u001b[0m\u001b[1;33m)\u001b[0m\u001b[1;33m\u001b[0m\u001b[1;33m\u001b[0m\u001b[0m\n",
      "\u001b[1;32m~\\anaconda3\\envs\\learn-env\\lib\\site-packages\\tensorflow\\python\\keras\\callbacks.py\u001b[0m in \u001b[0;36m_call_batch_end_hook\u001b[1;34m(self, mode, batch, logs)\u001b[0m\n\u001b[0;32m    307\u001b[0m       \u001b[0mbatch_time\u001b[0m \u001b[1;33m=\u001b[0m \u001b[0mtime\u001b[0m\u001b[1;33m.\u001b[0m\u001b[0mtime\u001b[0m\u001b[1;33m(\u001b[0m\u001b[1;33m)\u001b[0m \u001b[1;33m-\u001b[0m \u001b[0mself\u001b[0m\u001b[1;33m.\u001b[0m\u001b[0m_batch_start_time\u001b[0m\u001b[1;33m\u001b[0m\u001b[1;33m\u001b[0m\u001b[0m\n\u001b[0;32m    308\u001b[0m \u001b[1;33m\u001b[0m\u001b[0m\n\u001b[1;32m--> 309\u001b[1;33m     \u001b[0mself\u001b[0m\u001b[1;33m.\u001b[0m\u001b[0m_call_batch_hook_helper\u001b[0m\u001b[1;33m(\u001b[0m\u001b[0mhook_name\u001b[0m\u001b[1;33m,\u001b[0m \u001b[0mbatch\u001b[0m\u001b[1;33m,\u001b[0m \u001b[0mlogs\u001b[0m\u001b[1;33m)\u001b[0m\u001b[1;33m\u001b[0m\u001b[1;33m\u001b[0m\u001b[0m\n\u001b[0m\u001b[0;32m    310\u001b[0m \u001b[1;33m\u001b[0m\u001b[0m\n\u001b[0;32m    311\u001b[0m     \u001b[1;32mif\u001b[0m \u001b[0mself\u001b[0m\u001b[1;33m.\u001b[0m\u001b[0m_check_timing\u001b[0m\u001b[1;33m:\u001b[0m\u001b[1;33m\u001b[0m\u001b[1;33m\u001b[0m\u001b[0m\n",
      "\u001b[1;32m~\\anaconda3\\envs\\learn-env\\lib\\site-packages\\tensorflow\\python\\keras\\callbacks.py\u001b[0m in \u001b[0;36m_call_batch_hook_helper\u001b[1;34m(self, hook_name, batch, logs)\u001b[0m\n\u001b[0;32m    343\u001b[0m       \u001b[1;32melse\u001b[0m\u001b[1;33m:\u001b[0m\u001b[1;33m\u001b[0m\u001b[1;33m\u001b[0m\u001b[0m\n\u001b[0;32m    344\u001b[0m         \u001b[1;32mif\u001b[0m \u001b[0mnumpy_logs\u001b[0m \u001b[1;32mis\u001b[0m \u001b[1;32mNone\u001b[0m\u001b[1;33m:\u001b[0m  \u001b[1;31m# Only convert once.\u001b[0m\u001b[1;33m\u001b[0m\u001b[1;33m\u001b[0m\u001b[0m\n\u001b[1;32m--> 345\u001b[1;33m           \u001b[0mnumpy_logs\u001b[0m \u001b[1;33m=\u001b[0m \u001b[0mtf_utils\u001b[0m\u001b[1;33m.\u001b[0m\u001b[0mto_numpy_or_python_type\u001b[0m\u001b[1;33m(\u001b[0m\u001b[0mlogs\u001b[0m\u001b[1;33m)\u001b[0m\u001b[1;33m\u001b[0m\u001b[1;33m\u001b[0m\u001b[0m\n\u001b[0m\u001b[0;32m    346\u001b[0m         \u001b[0mhook\u001b[0m\u001b[1;33m(\u001b[0m\u001b[0mbatch\u001b[0m\u001b[1;33m,\u001b[0m \u001b[0mnumpy_logs\u001b[0m\u001b[1;33m)\u001b[0m\u001b[1;33m\u001b[0m\u001b[1;33m\u001b[0m\u001b[0m\n\u001b[0;32m    347\u001b[0m \u001b[1;33m\u001b[0m\u001b[0m\n",
      "\u001b[1;32m~\\anaconda3\\envs\\learn-env\\lib\\site-packages\\tensorflow\\python\\keras\\utils\\tf_utils.py\u001b[0m in \u001b[0;36mto_numpy_or_python_type\u001b[1;34m(tensors)\u001b[0m\n\u001b[0;32m    535\u001b[0m     \u001b[1;32mreturn\u001b[0m \u001b[0mt\u001b[0m  \u001b[1;31m# Don't turn ragged or sparse tensors to NumPy.\u001b[0m\u001b[1;33m\u001b[0m\u001b[1;33m\u001b[0m\u001b[0m\n\u001b[0;32m    536\u001b[0m \u001b[1;33m\u001b[0m\u001b[0m\n\u001b[1;32m--> 537\u001b[1;33m   \u001b[1;32mreturn\u001b[0m \u001b[0mnest\u001b[0m\u001b[1;33m.\u001b[0m\u001b[0mmap_structure\u001b[0m\u001b[1;33m(\u001b[0m\u001b[0m_to_single_numpy_or_python_type\u001b[0m\u001b[1;33m,\u001b[0m \u001b[0mtensors\u001b[0m\u001b[1;33m)\u001b[0m\u001b[1;33m\u001b[0m\u001b[1;33m\u001b[0m\u001b[0m\n\u001b[0m\u001b[0;32m    538\u001b[0m \u001b[1;33m\u001b[0m\u001b[0m\n\u001b[0;32m    539\u001b[0m \u001b[1;33m\u001b[0m\u001b[0m\n",
      "\u001b[1;32m~\\anaconda3\\envs\\learn-env\\lib\\site-packages\\tensorflow\\python\\util\\nest.py\u001b[0m in \u001b[0;36mmap_structure\u001b[1;34m(func, *structure, **kwargs)\u001b[0m\n\u001b[0;32m    633\u001b[0m \u001b[1;33m\u001b[0m\u001b[0m\n\u001b[0;32m    634\u001b[0m   return pack_sequence_as(\n\u001b[1;32m--> 635\u001b[1;33m       \u001b[0mstructure\u001b[0m\u001b[1;33m[\u001b[0m\u001b[1;36m0\u001b[0m\u001b[1;33m]\u001b[0m\u001b[1;33m,\u001b[0m \u001b[1;33m[\u001b[0m\u001b[0mfunc\u001b[0m\u001b[1;33m(\u001b[0m\u001b[1;33m*\u001b[0m\u001b[0mx\u001b[0m\u001b[1;33m)\u001b[0m \u001b[1;32mfor\u001b[0m \u001b[0mx\u001b[0m \u001b[1;32min\u001b[0m \u001b[0mentries\u001b[0m\u001b[1;33m]\u001b[0m\u001b[1;33m,\u001b[0m\u001b[1;33m\u001b[0m\u001b[1;33m\u001b[0m\u001b[0m\n\u001b[0m\u001b[0;32m    636\u001b[0m       expand_composites=expand_composites)\n\u001b[0;32m    637\u001b[0m \u001b[1;33m\u001b[0m\u001b[0m\n",
      "\u001b[1;32m~\\anaconda3\\envs\\learn-env\\lib\\site-packages\\tensorflow\\python\\util\\nest.py\u001b[0m in \u001b[0;36m<listcomp>\u001b[1;34m(.0)\u001b[0m\n\u001b[0;32m    633\u001b[0m \u001b[1;33m\u001b[0m\u001b[0m\n\u001b[0;32m    634\u001b[0m   return pack_sequence_as(\n\u001b[1;32m--> 635\u001b[1;33m       \u001b[0mstructure\u001b[0m\u001b[1;33m[\u001b[0m\u001b[1;36m0\u001b[0m\u001b[1;33m]\u001b[0m\u001b[1;33m,\u001b[0m \u001b[1;33m[\u001b[0m\u001b[0mfunc\u001b[0m\u001b[1;33m(\u001b[0m\u001b[1;33m*\u001b[0m\u001b[0mx\u001b[0m\u001b[1;33m)\u001b[0m \u001b[1;32mfor\u001b[0m \u001b[0mx\u001b[0m \u001b[1;32min\u001b[0m \u001b[0mentries\u001b[0m\u001b[1;33m]\u001b[0m\u001b[1;33m,\u001b[0m\u001b[1;33m\u001b[0m\u001b[1;33m\u001b[0m\u001b[0m\n\u001b[0m\u001b[0;32m    636\u001b[0m       expand_composites=expand_composites)\n\u001b[0;32m    637\u001b[0m \u001b[1;33m\u001b[0m\u001b[0m\n",
      "\u001b[1;32m~\\anaconda3\\envs\\learn-env\\lib\\site-packages\\tensorflow\\python\\keras\\utils\\tf_utils.py\u001b[0m in \u001b[0;36m_to_single_numpy_or_python_type\u001b[1;34m(t)\u001b[0m\n\u001b[0;32m    531\u001b[0m   \u001b[1;32mdef\u001b[0m \u001b[0m_to_single_numpy_or_python_type\u001b[0m\u001b[1;33m(\u001b[0m\u001b[0mt\u001b[0m\u001b[1;33m)\u001b[0m\u001b[1;33m:\u001b[0m\u001b[1;33m\u001b[0m\u001b[1;33m\u001b[0m\u001b[0m\n\u001b[0;32m    532\u001b[0m     \u001b[1;32mif\u001b[0m \u001b[0misinstance\u001b[0m\u001b[1;33m(\u001b[0m\u001b[0mt\u001b[0m\u001b[1;33m,\u001b[0m \u001b[0mops\u001b[0m\u001b[1;33m.\u001b[0m\u001b[0mTensor\u001b[0m\u001b[1;33m)\u001b[0m\u001b[1;33m:\u001b[0m\u001b[1;33m\u001b[0m\u001b[1;33m\u001b[0m\u001b[0m\n\u001b[1;32m--> 533\u001b[1;33m       \u001b[0mx\u001b[0m \u001b[1;33m=\u001b[0m \u001b[0mt\u001b[0m\u001b[1;33m.\u001b[0m\u001b[0mnumpy\u001b[0m\u001b[1;33m(\u001b[0m\u001b[1;33m)\u001b[0m\u001b[1;33m\u001b[0m\u001b[1;33m\u001b[0m\u001b[0m\n\u001b[0m\u001b[0;32m    534\u001b[0m       \u001b[1;32mreturn\u001b[0m \u001b[0mx\u001b[0m\u001b[1;33m.\u001b[0m\u001b[0mitem\u001b[0m\u001b[1;33m(\u001b[0m\u001b[1;33m)\u001b[0m \u001b[1;32mif\u001b[0m \u001b[0mnp\u001b[0m\u001b[1;33m.\u001b[0m\u001b[0mndim\u001b[0m\u001b[1;33m(\u001b[0m\u001b[0mx\u001b[0m\u001b[1;33m)\u001b[0m \u001b[1;33m==\u001b[0m \u001b[1;36m0\u001b[0m \u001b[1;32melse\u001b[0m \u001b[0mx\u001b[0m\u001b[1;33m\u001b[0m\u001b[1;33m\u001b[0m\u001b[0m\n\u001b[0;32m    535\u001b[0m     \u001b[1;32mreturn\u001b[0m \u001b[0mt\u001b[0m  \u001b[1;31m# Don't turn ragged or sparse tensors to NumPy.\u001b[0m\u001b[1;33m\u001b[0m\u001b[1;33m\u001b[0m\u001b[0m\n",
      "\u001b[1;32m~\\anaconda3\\envs\\learn-env\\lib\\site-packages\\tensorflow\\python\\framework\\ops.py\u001b[0m in \u001b[0;36mnumpy\u001b[1;34m(self)\u001b[0m\n\u001b[0;32m   1061\u001b[0m     \"\"\"\n\u001b[0;32m   1062\u001b[0m     \u001b[1;31m# TODO(slebedev): Consider avoiding a copy for non-CPU or remote tensors.\u001b[0m\u001b[1;33m\u001b[0m\u001b[1;33m\u001b[0m\u001b[1;33m\u001b[0m\u001b[0m\n\u001b[1;32m-> 1063\u001b[1;33m     \u001b[0mmaybe_arr\u001b[0m \u001b[1;33m=\u001b[0m \u001b[0mself\u001b[0m\u001b[1;33m.\u001b[0m\u001b[0m_numpy\u001b[0m\u001b[1;33m(\u001b[0m\u001b[1;33m)\u001b[0m  \u001b[1;31m# pylint: disable=protected-access\u001b[0m\u001b[1;33m\u001b[0m\u001b[1;33m\u001b[0m\u001b[0m\n\u001b[0m\u001b[0;32m   1064\u001b[0m     \u001b[1;32mreturn\u001b[0m \u001b[0mmaybe_arr\u001b[0m\u001b[1;33m.\u001b[0m\u001b[0mcopy\u001b[0m\u001b[1;33m(\u001b[0m\u001b[1;33m)\u001b[0m \u001b[1;32mif\u001b[0m \u001b[0misinstance\u001b[0m\u001b[1;33m(\u001b[0m\u001b[0mmaybe_arr\u001b[0m\u001b[1;33m,\u001b[0m \u001b[0mnp\u001b[0m\u001b[1;33m.\u001b[0m\u001b[0mndarray\u001b[0m\u001b[1;33m)\u001b[0m \u001b[1;32melse\u001b[0m \u001b[0mmaybe_arr\u001b[0m\u001b[1;33m\u001b[0m\u001b[1;33m\u001b[0m\u001b[0m\n\u001b[0;32m   1065\u001b[0m \u001b[1;33m\u001b[0m\u001b[0m\n",
      "\u001b[1;32m~\\anaconda3\\envs\\learn-env\\lib\\site-packages\\tensorflow\\python\\framework\\ops.py\u001b[0m in \u001b[0;36m_numpy\u001b[1;34m(self)\u001b[0m\n\u001b[0;32m   1027\u001b[0m   \u001b[1;32mdef\u001b[0m \u001b[0m_numpy\u001b[0m\u001b[1;33m(\u001b[0m\u001b[0mself\u001b[0m\u001b[1;33m)\u001b[0m\u001b[1;33m:\u001b[0m\u001b[1;33m\u001b[0m\u001b[1;33m\u001b[0m\u001b[0m\n\u001b[0;32m   1028\u001b[0m     \u001b[1;32mtry\u001b[0m\u001b[1;33m:\u001b[0m\u001b[1;33m\u001b[0m\u001b[1;33m\u001b[0m\u001b[0m\n\u001b[1;32m-> 1029\u001b[1;33m       \u001b[1;32mreturn\u001b[0m \u001b[0mself\u001b[0m\u001b[1;33m.\u001b[0m\u001b[0m_numpy_internal\u001b[0m\u001b[1;33m(\u001b[0m\u001b[1;33m)\u001b[0m\u001b[1;33m\u001b[0m\u001b[1;33m\u001b[0m\u001b[0m\n\u001b[0m\u001b[0;32m   1030\u001b[0m     \u001b[1;32mexcept\u001b[0m \u001b[0mcore\u001b[0m\u001b[1;33m.\u001b[0m\u001b[0m_NotOkStatusException\u001b[0m \u001b[1;32mas\u001b[0m \u001b[0me\u001b[0m\u001b[1;33m:\u001b[0m  \u001b[1;31m# pylint: disable=protected-access\u001b[0m\u001b[1;33m\u001b[0m\u001b[1;33m\u001b[0m\u001b[0m\n\u001b[0;32m   1031\u001b[0m       \u001b[0msix\u001b[0m\u001b[1;33m.\u001b[0m\u001b[0mraise_from\u001b[0m\u001b[1;33m(\u001b[0m\u001b[0mcore\u001b[0m\u001b[1;33m.\u001b[0m\u001b[0m_status_to_exception\u001b[0m\u001b[1;33m(\u001b[0m\u001b[0me\u001b[0m\u001b[1;33m.\u001b[0m\u001b[0mcode\u001b[0m\u001b[1;33m,\u001b[0m \u001b[0me\u001b[0m\u001b[1;33m.\u001b[0m\u001b[0mmessage\u001b[0m\u001b[1;33m)\u001b[0m\u001b[1;33m,\u001b[0m \u001b[1;32mNone\u001b[0m\u001b[1;33m)\u001b[0m  \u001b[1;31m# pylint: disable=protected-access\u001b[0m\u001b[1;33m\u001b[0m\u001b[1;33m\u001b[0m\u001b[0m\n",
      "\u001b[1;31mKeyboardInterrupt\u001b[0m: "
     ]
    }
   ],
   "source": [
    "best_acc = 0\n",
    "for i in range(36):\n",
    "    model = instantiate_model()\n",
    "    model.compile(loss='categorical_crossentropy',\n",
    "              optimizer=optimizers.RMSprop(lr=.0001),\n",
    "              metrics=['acc'])\n",
    "    history = model.fit(train_generator,\n",
    "                        steps_per_epoch= 30041//batch_size,\n",
    "                        epochs=1,\n",
    "                        validation_data=val_generator,\n",
    "                        validation_steps= 3756//batch_size,\n",
    "                        verbose = 2)\n",
    "    acc = history.history['acc'][-1]\n",
    "    if best_acc < acc:\n",
    "        best_acc = acc\n",
    "        print(f'New best accuracy: {best_acc}')\n",
    "        model.save('.\\SavedModels\\iterCNN', overwrite = True)\n",
    "    del model\n",
    "    del history\n",
    "    tf.keras.backend.clear_session()\n",
    "    for i in range (100):\n",
    "        gc.collect()"
   ]
  },
  {
   "cell_type": "code",
   "execution_count": null,
   "metadata": {},
   "outputs": [],
   "source": []
  }
 ],
 "metadata": {
  "kernelspec": {
   "display_name": "learn-env",
   "language": "python",
   "name": "learn-env"
  },
  "language_info": {
   "codemirror_mode": {
    "name": "ipython",
    "version": 3
   },
   "file_extension": ".py",
   "mimetype": "text/x-python",
   "name": "python",
   "nbconvert_exporter": "python",
   "pygments_lexer": "ipython3",
   "version": "3.8.5"
  },
  "toc-autonumbering": true
 },
 "nbformat": 4,
 "nbformat_minor": 5
}
